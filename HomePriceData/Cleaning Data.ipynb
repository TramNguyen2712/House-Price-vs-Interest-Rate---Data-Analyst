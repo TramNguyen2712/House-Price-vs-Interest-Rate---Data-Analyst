{
 "cells": [
  {
   "cell_type": "code",
   "execution_count": 2,
   "id": "2f8a928e",
   "metadata": {},
   "outputs": [],
   "source": [
    "import pandas as pd \n",
    "import matplotlib.pyplot as plt"
   ]
  },
  {
   "cell_type": "markdown",
   "id": "0e389982",
   "metadata": {},
   "source": [
    "# Home Prices Data"
   ]
  },
  {
   "cell_type": "code",
   "execution_count": 3,
   "id": "43b64d72",
   "metadata": {},
   "outputs": [],
   "source": [
    "data = pd.read_csv('data.csv', encoding='UTF-16', delimiter='\\t')"
   ]
  },
  {
   "cell_type": "code",
   "execution_count": 4,
   "id": "08332143",
   "metadata": {},
   "outputs": [
    {
     "data": {
      "text/plain": [
       "<bound method NDFrame.head of               Region Month of Period End Median Sale Price  \\\n",
       "0        Atlanta, GA              18-Jan             $251K   \n",
       "1        Atlanta, GA              18-Feb             $246K   \n",
       "2        Atlanta, GA              18-Mar             $267K   \n",
       "3        Atlanta, GA              18-Apr             $279K   \n",
       "4        Atlanta, GA              18-May             $295K   \n",
       "..               ...                 ...               ...   \n",
       "403  St. Charles, MO              23-Apr             $330K   \n",
       "404  St. Charles, MO              23-May             $338K   \n",
       "405  St. Charles, MO              23-Jun             $335K   \n",
       "406  St. Charles, MO              23-Jul             $327K   \n",
       "407  St. Charles, MO              23-Aug             $340K   \n",
       "\n",
       "    Median Sale Price MoM  Inventory Inventory MoM   Supply  \n",
       "0                  -13.40%     2,855         -1.60%     4.2  \n",
       "1                   -2.20%     2,955          3.50%     3.7  \n",
       "2                    8.80%     3,073          4.00%     2.8  \n",
       "3                    4.70%     3,198          4.10%     3.2  \n",
       "4                    5.50%     3,346          4.60%     2.7  \n",
       "..                     ...       ...            ...     ...  \n",
       "403                  0.90%        69        -15.90%     0.8  \n",
       "404                  2.30%        79         14.50%     0.8  \n",
       "405                 -0.70%       111         40.50%     0.9  \n",
       "406                 -2.50%       109         -1.80%     0.9  \n",
       "407                  4.10%       108         -0.90%     0.8  \n",
       "\n",
       "[408 rows x 7 columns]>"
      ]
     },
     "execution_count": 4,
     "metadata": {},
     "output_type": "execute_result"
    }
   ],
   "source": [
    "data.head"
   ]
  },
  {
   "cell_type": "code",
   "execution_count": 5,
   "id": "eeeffc09",
   "metadata": {},
   "outputs": [
    {
     "data": {
      "text/plain": [
       "Index(['Region', 'Month of Period End', 'Median Sale Price',\n",
       "       'Median Sale Price MoM ', 'Inventory', 'Inventory MoM ', 'Supply'],\n",
       "      dtype='object')"
      ]
     },
     "execution_count": 5,
     "metadata": {},
     "output_type": "execute_result"
    }
   ],
   "source": [
    "data.columns"
   ]
  },
  {
   "cell_type": "code",
   "execution_count": 6,
   "id": "4b94863a",
   "metadata": {},
   "outputs": [
    {
     "data": {
      "text/plain": [
       "Region                    0\n",
       "Month of Period End       0\n",
       "Median Sale Price         0\n",
       "Median Sale Price MoM     0\n",
       "Inventory                 0\n",
       "Inventory MoM             0\n",
       "Supply                    0\n",
       "dtype: int64"
      ]
     },
     "execution_count": 6,
     "metadata": {},
     "output_type": "execute_result"
    }
   ],
   "source": [
    "# Checking for missing values in the data_df dataset\n",
    "missing_values_data_df = data.isnull().sum()\n",
    "missing_values_data_df"
   ]
  },
  {
   "cell_type": "code",
   "execution_count": 7,
   "id": "8fc382f2",
   "metadata": {},
   "outputs": [
    {
     "data": {
      "text/plain": [
       "Region                     object\n",
       "Month of Period End        object\n",
       "Median Sale Price          object\n",
       "Median Sale Price MoM      object\n",
       "Inventory                  object\n",
       "Inventory MoM              object\n",
       "Supply                    float64\n",
       "dtype: object"
      ]
     },
     "execution_count": 7,
     "metadata": {},
     "output_type": "execute_result"
    }
   ],
   "source": [
    "data_types_data_df = data.dtypes\n",
    "data_types_data_df"
   ]
  },
  {
   "cell_type": "code",
   "execution_count": 8,
   "id": "9334d8b4",
   "metadata": {},
   "outputs": [],
   "source": [
    "data.rename(columns={\n",
    "    'Median Sale Price MoM ': 'Median Sale Price MoM',\n",
    "    'Inventory MoM ': 'Inventory MoM'\n",
    "},inplace=True)"
   ]
  },
  {
   "cell_type": "code",
   "execution_count": 9,
   "id": "ccf63aaf",
   "metadata": {},
   "outputs": [
    {
     "name": "stderr",
     "output_type": "stream",
     "text": [
      "<ipython-input-9-42df905ca8ba>:4: FutureWarning: The default value of regex will change from True to False in a future version. In addition, single character regular expressions will*not* be treated as literal strings when regex=True.\n",
      "  data['Median Sale Price'] = data['Median Sale Price'].str.replace('$','').str.replace('K','000').str.replace(',','').astype(int)\n"
     ]
    }
   ],
   "source": [
    "# Cleaning the data \n",
    "\n",
    "# Remove $ and commas, change K to 000, convert to integer\n",
    "data['Median Sale Price'] = data['Median Sale Price'].str.replace('$','').str.replace('K','000').str.replace(',','').astype(int)\n",
    "\n",
    "# Remove % and convert to float\n",
    "data['Median Sale Price MoM'] = data['Median Sale Price MoM'].str.replace('%','').astype(float)/100\n",
    "data['Inventory MoM'] = data['Inventory MoM'].str.replace('%','').astype(float)/100\n",
    "\n",
    "# Remove commas and convert to integer\n",
    "data['Inventory'] = data['Inventory'].str.replace(',','').astype(int)\n",
    "\n",
    "#Convert to float\n",
    "data['Supply'] = data['Supply'].astype(float)\n"
   ]
  },
  {
   "cell_type": "code",
   "execution_count": 10,
   "id": "59bbfff4",
   "metadata": {},
   "outputs": [
    {
     "data": {
      "text/html": [
       "<div>\n",
       "<style scoped>\n",
       "    .dataframe tbody tr th:only-of-type {\n",
       "        vertical-align: middle;\n",
       "    }\n",
       "\n",
       "    .dataframe tbody tr th {\n",
       "        vertical-align: top;\n",
       "    }\n",
       "\n",
       "    .dataframe thead th {\n",
       "        text-align: right;\n",
       "    }\n",
       "</style>\n",
       "<table border=\"1\" class=\"dataframe\">\n",
       "  <thead>\n",
       "    <tr style=\"text-align: right;\">\n",
       "      <th></th>\n",
       "      <th>Region</th>\n",
       "      <th>Month of Period End</th>\n",
       "      <th>Median Sale Price</th>\n",
       "      <th>Median Sale Price MoM</th>\n",
       "      <th>Inventory</th>\n",
       "      <th>Inventory MoM</th>\n",
       "      <th>Supply</th>\n",
       "    </tr>\n",
       "  </thead>\n",
       "  <tbody>\n",
       "    <tr>\n",
       "      <th>0</th>\n",
       "      <td>Atlanta, GA</td>\n",
       "      <td>18-Jan</td>\n",
       "      <td>251000</td>\n",
       "      <td>-0.134</td>\n",
       "      <td>2855</td>\n",
       "      <td>-0.016</td>\n",
       "      <td>4.2</td>\n",
       "    </tr>\n",
       "    <tr>\n",
       "      <th>1</th>\n",
       "      <td>Atlanta, GA</td>\n",
       "      <td>18-Feb</td>\n",
       "      <td>246000</td>\n",
       "      <td>-0.022</td>\n",
       "      <td>2955</td>\n",
       "      <td>0.035</td>\n",
       "      <td>3.7</td>\n",
       "    </tr>\n",
       "    <tr>\n",
       "      <th>2</th>\n",
       "      <td>Atlanta, GA</td>\n",
       "      <td>18-Mar</td>\n",
       "      <td>267000</td>\n",
       "      <td>0.088</td>\n",
       "      <td>3073</td>\n",
       "      <td>0.040</td>\n",
       "      <td>2.8</td>\n",
       "    </tr>\n",
       "    <tr>\n",
       "      <th>3</th>\n",
       "      <td>Atlanta, GA</td>\n",
       "      <td>18-Apr</td>\n",
       "      <td>279000</td>\n",
       "      <td>0.047</td>\n",
       "      <td>3198</td>\n",
       "      <td>0.041</td>\n",
       "      <td>3.2</td>\n",
       "    </tr>\n",
       "    <tr>\n",
       "      <th>4</th>\n",
       "      <td>Atlanta, GA</td>\n",
       "      <td>18-May</td>\n",
       "      <td>295000</td>\n",
       "      <td>0.055</td>\n",
       "      <td>3346</td>\n",
       "      <td>0.046</td>\n",
       "      <td>2.7</td>\n",
       "    </tr>\n",
       "  </tbody>\n",
       "</table>\n",
       "</div>"
      ],
      "text/plain": [
       "        Region Month of Period End  Median Sale Price  Median Sale Price MoM  \\\n",
       "0  Atlanta, GA              18-Jan             251000                 -0.134   \n",
       "1  Atlanta, GA              18-Feb             246000                 -0.022   \n",
       "2  Atlanta, GA              18-Mar             267000                  0.088   \n",
       "3  Atlanta, GA              18-Apr             279000                  0.047   \n",
       "4  Atlanta, GA              18-May             295000                  0.055   \n",
       "\n",
       "   Inventory  Inventory MoM  Supply  \n",
       "0       2855         -0.016     4.2  \n",
       "1       2955          0.035     3.7  \n",
       "2       3073          0.040     2.8  \n",
       "3       3198          0.041     3.2  \n",
       "4       3346          0.046     2.7  "
      ]
     },
     "execution_count": 10,
     "metadata": {},
     "output_type": "execute_result"
    }
   ],
   "source": [
    "data.head()"
   ]
  },
  {
   "cell_type": "code",
   "execution_count": 11,
   "id": "7494b224",
   "metadata": {},
   "outputs": [
    {
     "data": {
      "text/plain": [
       "0"
      ]
     },
     "execution_count": 11,
     "metadata": {},
     "output_type": "execute_result"
    }
   ],
   "source": [
    "# Checking for and removing duplicate rows in the data_df dataset\n",
    "initial_row_count = len(data)\n",
    "data = data.drop_duplicates()\n",
    "\n",
    "# Calculating the number of duplicate rows removed\n",
    "duplicate_rows_removed = initial_row_count - len(data)\n",
    "\n",
    "duplicate_rows_removed"
   ]
  },
  {
   "cell_type": "code",
   "execution_count": 12,
   "id": "fbb59c28",
   "metadata": {},
   "outputs": [],
   "source": [
    "#basic statistics \n",
    "statistics = data.describe() "
   ]
  },
  {
   "cell_type": "code",
   "execution_count": 13,
   "id": "44f3a53f",
   "metadata": {},
   "outputs": [
    {
     "data": {
      "text/html": [
       "<div>\n",
       "<style scoped>\n",
       "    .dataframe tbody tr th:only-of-type {\n",
       "        vertical-align: middle;\n",
       "    }\n",
       "\n",
       "    .dataframe tbody tr th {\n",
       "        vertical-align: top;\n",
       "    }\n",
       "\n",
       "    .dataframe thead th {\n",
       "        text-align: right;\n",
       "    }\n",
       "</style>\n",
       "<table border=\"1\" class=\"dataframe\">\n",
       "  <thead>\n",
       "    <tr style=\"text-align: right;\">\n",
       "      <th></th>\n",
       "      <th>Median Sale Price</th>\n",
       "      <th>Median Sale Price MoM</th>\n",
       "      <th>Inventory</th>\n",
       "      <th>Inventory MoM</th>\n",
       "      <th>Supply</th>\n",
       "    </tr>\n",
       "  </thead>\n",
       "  <tbody>\n",
       "    <tr>\n",
       "      <th>count</th>\n",
       "      <td>408.000000</td>\n",
       "      <td>408.000000</td>\n",
       "      <td>408.000000</td>\n",
       "      <td>408.000000</td>\n",
       "      <td>408.000000</td>\n",
       "    </tr>\n",
       "    <tr>\n",
       "      <th>mean</th>\n",
       "      <td>311125.000000</td>\n",
       "      <td>0.007681</td>\n",
       "      <td>1073.536765</td>\n",
       "      <td>0.003103</td>\n",
       "      <td>2.224020</td>\n",
       "    </tr>\n",
       "    <tr>\n",
       "      <th>std</th>\n",
       "      <td>85450.800894</td>\n",
       "      <td>0.055030</td>\n",
       "      <td>1235.401226</td>\n",
       "      <td>0.111864</td>\n",
       "      <td>1.183615</td>\n",
       "    </tr>\n",
       "    <tr>\n",
       "      <th>min</th>\n",
       "      <td>139000.000000</td>\n",
       "      <td>-0.155000</td>\n",
       "      <td>40.000000</td>\n",
       "      <td>-0.303000</td>\n",
       "      <td>0.400000</td>\n",
       "    </tr>\n",
       "    <tr>\n",
       "      <th>25%</th>\n",
       "      <td>249750.000000</td>\n",
       "      <td>-0.026000</td>\n",
       "      <td>219.750000</td>\n",
       "      <td>-0.061500</td>\n",
       "      <td>1.400000</td>\n",
       "    </tr>\n",
       "    <tr>\n",
       "      <th>50%</th>\n",
       "      <td>308000.000000</td>\n",
       "      <td>0.000000</td>\n",
       "      <td>587.500000</td>\n",
       "      <td>0.008500</td>\n",
       "      <td>2.000000</td>\n",
       "    </tr>\n",
       "    <tr>\n",
       "      <th>75%</th>\n",
       "      <td>375000.000000</td>\n",
       "      <td>0.044000</td>\n",
       "      <td>1347.750000</td>\n",
       "      <td>0.068000</td>\n",
       "      <td>2.800000</td>\n",
       "    </tr>\n",
       "    <tr>\n",
       "      <th>max</th>\n",
       "      <td>523000.000000</td>\n",
       "      <td>0.168000</td>\n",
       "      <td>5212.000000</td>\n",
       "      <td>0.520000</td>\n",
       "      <td>6.800000</td>\n",
       "    </tr>\n",
       "  </tbody>\n",
       "</table>\n",
       "</div>"
      ],
      "text/plain": [
       "       Median Sale Price  Median Sale Price MoM    Inventory  Inventory MoM  \\\n",
       "count         408.000000             408.000000   408.000000     408.000000   \n",
       "mean       311125.000000               0.007681  1073.536765       0.003103   \n",
       "std         85450.800894               0.055030  1235.401226       0.111864   \n",
       "min        139000.000000              -0.155000    40.000000      -0.303000   \n",
       "25%        249750.000000              -0.026000   219.750000      -0.061500   \n",
       "50%        308000.000000               0.000000   587.500000       0.008500   \n",
       "75%        375000.000000               0.044000  1347.750000       0.068000   \n",
       "max        523000.000000               0.168000  5212.000000       0.520000   \n",
       "\n",
       "           Supply  \n",
       "count  408.000000  \n",
       "mean     2.224020  \n",
       "std      1.183615  \n",
       "min      0.400000  \n",
       "25%      1.400000  \n",
       "50%      2.000000  \n",
       "75%      2.800000  \n",
       "max      6.800000  "
      ]
     },
     "execution_count": 13,
     "metadata": {},
     "output_type": "execute_result"
    }
   ],
   "source": [
    "statistics"
   ]
  },
  {
   "cell_type": "code",
   "execution_count": 14,
   "id": "c23a497c",
   "metadata": {},
   "outputs": [],
   "source": [
    "# Checking for unique values in the 'Region' column to ensure data consistency\n",
    "regions = data['Region'].unique() "
   ]
  },
  {
   "cell_type": "code",
   "execution_count": 15,
   "id": "42197218",
   "metadata": {},
   "outputs": [
    {
     "data": {
      "text/plain": [
       "array(['Atlanta, GA', 'Marietta, GA', 'Minneapolis, MN', 'Lakeville, MN',\n",
       "       'St. Louis, MO', 'St. Charles, MO'], dtype=object)"
      ]
     },
     "execution_count": 15,
     "metadata": {},
     "output_type": "execute_result"
    }
   ],
   "source": [
    "regions"
   ]
  },
  {
   "cell_type": "code",
   "execution_count": 16,
   "id": "7b36a6ad",
   "metadata": {},
   "outputs": [
    {
     "data": {
      "text/html": [
       "<div>\n",
       "<style scoped>\n",
       "    .dataframe tbody tr th:only-of-type {\n",
       "        vertical-align: middle;\n",
       "    }\n",
       "\n",
       "    .dataframe tbody tr th {\n",
       "        vertical-align: top;\n",
       "    }\n",
       "\n",
       "    .dataframe thead th {\n",
       "        text-align: right;\n",
       "    }\n",
       "</style>\n",
       "<table border=\"1\" class=\"dataframe\">\n",
       "  <thead>\n",
       "    <tr style=\"text-align: right;\">\n",
       "      <th></th>\n",
       "      <th>Region</th>\n",
       "      <th>Month of Period End</th>\n",
       "      <th>Median Sale Price</th>\n",
       "      <th>Median Sale Price MoM</th>\n",
       "      <th>Inventory</th>\n",
       "      <th>Inventory MoM</th>\n",
       "      <th>Supply</th>\n",
       "    </tr>\n",
       "  </thead>\n",
       "  <tbody>\n",
       "    <tr>\n",
       "      <th>0</th>\n",
       "      <td>Atlanta, GA</td>\n",
       "      <td>2018-01-01 00:00:00</td>\n",
       "      <td>251000</td>\n",
       "      <td>-0.134</td>\n",
       "      <td>2855</td>\n",
       "      <td>-0.016</td>\n",
       "      <td>4.2</td>\n",
       "    </tr>\n",
       "    <tr>\n",
       "      <th>1</th>\n",
       "      <td>Atlanta, GA</td>\n",
       "      <td>2018-02-01 00:00:00</td>\n",
       "      <td>246000</td>\n",
       "      <td>-0.022</td>\n",
       "      <td>2955</td>\n",
       "      <td>0.035</td>\n",
       "      <td>3.7</td>\n",
       "    </tr>\n",
       "    <tr>\n",
       "      <th>2</th>\n",
       "      <td>Atlanta, GA</td>\n",
       "      <td>2018-03-01 00:00:00</td>\n",
       "      <td>267000</td>\n",
       "      <td>0.088</td>\n",
       "      <td>3073</td>\n",
       "      <td>0.040</td>\n",
       "      <td>2.8</td>\n",
       "    </tr>\n",
       "    <tr>\n",
       "      <th>3</th>\n",
       "      <td>Atlanta, GA</td>\n",
       "      <td>2018-04-01 00:00:00</td>\n",
       "      <td>279000</td>\n",
       "      <td>0.047</td>\n",
       "      <td>3198</td>\n",
       "      <td>0.041</td>\n",
       "      <td>3.2</td>\n",
       "    </tr>\n",
       "    <tr>\n",
       "      <th>4</th>\n",
       "      <td>Atlanta, GA</td>\n",
       "      <td>2018-05-01 00:00:00</td>\n",
       "      <td>295000</td>\n",
       "      <td>0.055</td>\n",
       "      <td>3346</td>\n",
       "      <td>0.046</td>\n",
       "      <td>2.7</td>\n",
       "    </tr>\n",
       "  </tbody>\n",
       "</table>\n",
       "</div>"
      ],
      "text/plain": [
       "        Region  Month of Period End  Median Sale Price  Median Sale Price MoM  \\\n",
       "0  Atlanta, GA  2018-01-01 00:00:00             251000                 -0.134   \n",
       "1  Atlanta, GA  2018-02-01 00:00:00             246000                 -0.022   \n",
       "2  Atlanta, GA  2018-03-01 00:00:00             267000                  0.088   \n",
       "3  Atlanta, GA  2018-04-01 00:00:00             279000                  0.047   \n",
       "4  Atlanta, GA  2018-05-01 00:00:00             295000                  0.055   \n",
       "\n",
       "   Inventory  Inventory MoM  Supply  \n",
       "0       2855         -0.016     4.2  \n",
       "1       2955          0.035     3.7  \n",
       "2       3073          0.040     2.8  \n",
       "3       3198          0.041     3.2  \n",
       "4       3346          0.046     2.7  "
      ]
     },
     "execution_count": 16,
     "metadata": {},
     "output_type": "execute_result"
    }
   ],
   "source": [
    "# Convert the 'Month of Period End' column to datetime format (if not already)\n",
    "data['Month of Period End'] = pd.to_datetime(data['Month of Period End'], format='%y-%b')\n",
    "\n",
    "# Reformat the datetime column to the desired format \"M/YYYY\"\n",
    "data['Month of Period End'] = data['Month of Period End'].dt.strftime('%-m/%Y')\n",
    "\n",
    "# Displaying the first few rows to verify the changes\n",
    "data_df_head_updated_format = data.head()\n",
    "data_df_head_updated_format"
   ]
  },
  {
   "cell_type": "markdown",
   "id": "5b7fcff1",
   "metadata": {},
   "source": [
    "# Interested Rate"
   ]
  },
  {
   "cell_type": "code",
   "execution_count": 17,
   "id": "c6907e79",
   "metadata": {},
   "outputs": [],
   "source": [
    "IR = pd.read_csv('Monthly Interested Rate.csv')"
   ]
  },
  {
   "cell_type": "code",
   "execution_count": 18,
   "id": "53661feb",
   "metadata": {},
   "outputs": [
    {
     "data": {
      "text/html": [
       "<div>\n",
       "<style scoped>\n",
       "    .dataframe tbody tr th:only-of-type {\n",
       "        vertical-align: middle;\n",
       "    }\n",
       "\n",
       "    .dataframe tbody tr th {\n",
       "        vertical-align: top;\n",
       "    }\n",
       "\n",
       "    .dataframe thead th {\n",
       "        text-align: right;\n",
       "    }\n",
       "</style>\n",
       "<table border=\"1\" class=\"dataframe\">\n",
       "  <thead>\n",
       "    <tr style=\"text-align: right;\">\n",
       "      <th></th>\n",
       "      <th>DATE</th>\n",
       "      <th>MORTGAGE30US</th>\n",
       "    </tr>\n",
       "  </thead>\n",
       "  <tbody>\n",
       "    <tr>\n",
       "      <th>0</th>\n",
       "      <td>1/1/2018</td>\n",
       "      <td>4.0325</td>\n",
       "    </tr>\n",
       "    <tr>\n",
       "      <th>1</th>\n",
       "      <td>2/1/2018</td>\n",
       "      <td>4.33</td>\n",
       "    </tr>\n",
       "    <tr>\n",
       "      <th>2</th>\n",
       "      <td>3/1/2018</td>\n",
       "      <td>4.444</td>\n",
       "    </tr>\n",
       "    <tr>\n",
       "      <th>3</th>\n",
       "      <td>4/1/2018</td>\n",
       "      <td>4.4675</td>\n",
       "    </tr>\n",
       "    <tr>\n",
       "      <th>4</th>\n",
       "      <td>5/1/2018</td>\n",
       "      <td>4.586</td>\n",
       "    </tr>\n",
       "  </tbody>\n",
       "</table>\n",
       "</div>"
      ],
      "text/plain": [
       "       DATE MORTGAGE30US\n",
       "0  1/1/2018       4.0325\n",
       "1  2/1/2018         4.33\n",
       "2  3/1/2018        4.444\n",
       "3  4/1/2018       4.4675\n",
       "4  5/1/2018        4.586"
      ]
     },
     "execution_count": 18,
     "metadata": {},
     "output_type": "execute_result"
    }
   ],
   "source": [
    "IR.head()"
   ]
  },
  {
   "cell_type": "code",
   "execution_count": 19,
   "id": "a4f2f69d",
   "metadata": {},
   "outputs": [
    {
     "data": {
      "text/plain": [
       "DATE            0\n",
       "MORTGAGE30US    0\n",
       "dtype: int64"
      ]
     },
     "execution_count": 19,
     "metadata": {},
     "output_type": "execute_result"
    }
   ],
   "source": [
    "# Checking for missing values in the IR dataset\n",
    "missing_values_IR = IR.isnull().sum()\n",
    "missing_values_IR"
   ]
  },
  {
   "cell_type": "code",
   "execution_count": 20,
   "id": "86cc987c",
   "metadata": {},
   "outputs": [
    {
     "data": {
      "text/plain": [
       "DATE            object\n",
       "MORTGAGE30US    object\n",
       "dtype: object"
      ]
     },
     "execution_count": 20,
     "metadata": {},
     "output_type": "execute_result"
    }
   ],
   "source": [
    "# Checking the data types of the columns in the IR dataset\n",
    "data_types_IR = IR.dtypes\n",
    "data_types_IR"
   ]
  },
  {
   "cell_type": "code",
   "execution_count": 21,
   "id": "89a029aa",
   "metadata": {},
   "outputs": [],
   "source": [
    "# Converting 'DATE' to datetime format\n",
    "IR['DATE'] = pd.to_datetime(IR['DATE'])"
   ]
  },
  {
   "cell_type": "code",
   "execution_count": 22,
   "id": "9ff0b758",
   "metadata": {},
   "outputs": [],
   "source": [
    "IR1 = IR[(IR['DATE'] >= '2018-01-01')]"
   ]
  },
  {
   "cell_type": "code",
   "execution_count": 23,
   "id": "1e5b0c71",
   "metadata": {},
   "outputs": [
    {
     "data": {
      "text/html": [
       "<div>\n",
       "<style scoped>\n",
       "    .dataframe tbody tr th:only-of-type {\n",
       "        vertical-align: middle;\n",
       "    }\n",
       "\n",
       "    .dataframe tbody tr th {\n",
       "        vertical-align: top;\n",
       "    }\n",
       "\n",
       "    .dataframe thead th {\n",
       "        text-align: right;\n",
       "    }\n",
       "</style>\n",
       "<table border=\"1\" class=\"dataframe\">\n",
       "  <thead>\n",
       "    <tr style=\"text-align: right;\">\n",
       "      <th></th>\n",
       "      <th>DATE</th>\n",
       "      <th>MORTGAGE30US</th>\n",
       "    </tr>\n",
       "  </thead>\n",
       "  <tbody>\n",
       "    <tr>\n",
       "      <th>0</th>\n",
       "      <td>2018-01-01</td>\n",
       "      <td>4.0325</td>\n",
       "    </tr>\n",
       "    <tr>\n",
       "      <th>1</th>\n",
       "      <td>2018-02-01</td>\n",
       "      <td>4.33</td>\n",
       "    </tr>\n",
       "    <tr>\n",
       "      <th>2</th>\n",
       "      <td>2018-03-01</td>\n",
       "      <td>4.444</td>\n",
       "    </tr>\n",
       "    <tr>\n",
       "      <th>3</th>\n",
       "      <td>2018-04-01</td>\n",
       "      <td>4.4675</td>\n",
       "    </tr>\n",
       "    <tr>\n",
       "      <th>4</th>\n",
       "      <td>2018-05-01</td>\n",
       "      <td>4.586</td>\n",
       "    </tr>\n",
       "  </tbody>\n",
       "</table>\n",
       "</div>"
      ],
      "text/plain": [
       "        DATE MORTGAGE30US\n",
       "0 2018-01-01       4.0325\n",
       "1 2018-02-01         4.33\n",
       "2 2018-03-01        4.444\n",
       "3 2018-04-01       4.4675\n",
       "4 2018-05-01        4.586"
      ]
     },
     "execution_count": 23,
     "metadata": {},
     "output_type": "execute_result"
    }
   ],
   "source": [
    "IR1.head()"
   ]
  },
  {
   "cell_type": "markdown",
   "id": "22deeb8b",
   "metadata": {},
   "source": [
    "# Merge 2 datasets"
   ]
  },
  {
   "cell_type": "code",
   "execution_count": 24,
   "id": "4e180a0b",
   "metadata": {},
   "outputs": [],
   "source": [
    "# Convert 'DATE' in interest_rate_df to the same format as 'Month of Period End' in data_df\n",
    "IR['DATE'] = IR['DATE'].dt.strftime('%-m/%Y')"
   ]
  },
  {
   "cell_type": "code",
   "execution_count": 25,
   "id": "df1e37e2",
   "metadata": {},
   "outputs": [
    {
     "data": {
      "text/html": [
       "<div>\n",
       "<style scoped>\n",
       "    .dataframe tbody tr th:only-of-type {\n",
       "        vertical-align: middle;\n",
       "    }\n",
       "\n",
       "    .dataframe tbody tr th {\n",
       "        vertical-align: top;\n",
       "    }\n",
       "\n",
       "    .dataframe thead th {\n",
       "        text-align: right;\n",
       "    }\n",
       "</style>\n",
       "<table border=\"1\" class=\"dataframe\">\n",
       "  <thead>\n",
       "    <tr style=\"text-align: right;\">\n",
       "      <th></th>\n",
       "      <th>Region</th>\n",
       "      <th>Month of Period End</th>\n",
       "      <th>Median Sale Price</th>\n",
       "      <th>Median Sale Price MoM</th>\n",
       "      <th>Inventory</th>\n",
       "      <th>Inventory MoM</th>\n",
       "      <th>Supply</th>\n",
       "      <th>MORTGAGE30US</th>\n",
       "    </tr>\n",
       "  </thead>\n",
       "  <tbody>\n",
       "    <tr>\n",
       "      <th>0</th>\n",
       "      <td>Atlanta, GA</td>\n",
       "      <td>2018-01-01 00:00:00</td>\n",
       "      <td>251000</td>\n",
       "      <td>-0.134</td>\n",
       "      <td>2855</td>\n",
       "      <td>-0.016</td>\n",
       "      <td>4.2</td>\n",
       "      <td>4.0325</td>\n",
       "    </tr>\n",
       "    <tr>\n",
       "      <th>1</th>\n",
       "      <td>Atlanta, GA</td>\n",
       "      <td>2018-02-01 00:00:00</td>\n",
       "      <td>246000</td>\n",
       "      <td>-0.022</td>\n",
       "      <td>2955</td>\n",
       "      <td>0.035</td>\n",
       "      <td>3.7</td>\n",
       "      <td>4.33</td>\n",
       "    </tr>\n",
       "    <tr>\n",
       "      <th>2</th>\n",
       "      <td>Atlanta, GA</td>\n",
       "      <td>2018-03-01 00:00:00</td>\n",
       "      <td>267000</td>\n",
       "      <td>0.088</td>\n",
       "      <td>3073</td>\n",
       "      <td>0.040</td>\n",
       "      <td>2.8</td>\n",
       "      <td>4.444</td>\n",
       "    </tr>\n",
       "    <tr>\n",
       "      <th>3</th>\n",
       "      <td>Atlanta, GA</td>\n",
       "      <td>2018-04-01 00:00:00</td>\n",
       "      <td>279000</td>\n",
       "      <td>0.047</td>\n",
       "      <td>3198</td>\n",
       "      <td>0.041</td>\n",
       "      <td>3.2</td>\n",
       "      <td>4.4675</td>\n",
       "    </tr>\n",
       "    <tr>\n",
       "      <th>4</th>\n",
       "      <td>Atlanta, GA</td>\n",
       "      <td>2018-05-01 00:00:00</td>\n",
       "      <td>295000</td>\n",
       "      <td>0.055</td>\n",
       "      <td>3346</td>\n",
       "      <td>0.046</td>\n",
       "      <td>2.7</td>\n",
       "      <td>4.586</td>\n",
       "    </tr>\n",
       "  </tbody>\n",
       "</table>\n",
       "</div>"
      ],
      "text/plain": [
       "        Region  Month of Period End  Median Sale Price  Median Sale Price MoM  \\\n",
       "0  Atlanta, GA  2018-01-01 00:00:00             251000                 -0.134   \n",
       "1  Atlanta, GA  2018-02-01 00:00:00             246000                 -0.022   \n",
       "2  Atlanta, GA  2018-03-01 00:00:00             267000                  0.088   \n",
       "3  Atlanta, GA  2018-04-01 00:00:00             279000                  0.047   \n",
       "4  Atlanta, GA  2018-05-01 00:00:00             295000                  0.055   \n",
       "\n",
       "   Inventory  Inventory MoM  Supply MORTGAGE30US  \n",
       "0       2855         -0.016     4.2       4.0325  \n",
       "1       2955          0.035     3.7         4.33  \n",
       "2       3073          0.040     2.8        4.444  \n",
       "3       3198          0.041     3.2       4.4675  \n",
       "4       3346          0.046     2.7        4.586  "
      ]
     },
     "execution_count": 25,
     "metadata": {},
     "output_type": "execute_result"
    }
   ],
   "source": [
    "# Merging the two dataframes on the date columns\n",
    "merged_df = pd.merge(data, IR, left_on='Month of Period End', right_on='DATE', how='left')\n",
    "\n",
    "# Drop the redundant 'DATE' column from the merged dataframe\n",
    "merged_df.drop('DATE', axis=1, inplace=True)\n",
    "\n",
    "# Display the first few rows of the merged dataframe\n",
    "merged_df_head = merged_df.head()\n",
    "merged_df_head"
   ]
  },
  {
   "cell_type": "code",
   "execution_count": 26,
   "id": "677468f2",
   "metadata": {},
   "outputs": [
    {
     "data": {
      "text/html": [
       "<div>\n",
       "<style scoped>\n",
       "    .dataframe tbody tr th:only-of-type {\n",
       "        vertical-align: middle;\n",
       "    }\n",
       "\n",
       "    .dataframe tbody tr th {\n",
       "        vertical-align: top;\n",
       "    }\n",
       "\n",
       "    .dataframe thead th {\n",
       "        text-align: right;\n",
       "    }\n",
       "</style>\n",
       "<table border=\"1\" class=\"dataframe\">\n",
       "  <thead>\n",
       "    <tr style=\"text-align: right;\">\n",
       "      <th></th>\n",
       "      <th>Region</th>\n",
       "      <th>Month of Period End</th>\n",
       "      <th>Median Sale Price</th>\n",
       "      <th>Median Sale Price MoM</th>\n",
       "      <th>Inventory</th>\n",
       "      <th>Inventory MoM</th>\n",
       "      <th>Supply</th>\n",
       "      <th>Mortgage Interested Rate 30</th>\n",
       "    </tr>\n",
       "  </thead>\n",
       "  <tbody>\n",
       "    <tr>\n",
       "      <th>0</th>\n",
       "      <td>Atlanta, GA</td>\n",
       "      <td>2018-01-01 00:00:00</td>\n",
       "      <td>251000</td>\n",
       "      <td>-0.134</td>\n",
       "      <td>2855</td>\n",
       "      <td>-0.016</td>\n",
       "      <td>4.2</td>\n",
       "      <td>4.0325</td>\n",
       "    </tr>\n",
       "    <tr>\n",
       "      <th>1</th>\n",
       "      <td>Atlanta, GA</td>\n",
       "      <td>2018-02-01 00:00:00</td>\n",
       "      <td>246000</td>\n",
       "      <td>-0.022</td>\n",
       "      <td>2955</td>\n",
       "      <td>0.035</td>\n",
       "      <td>3.7</td>\n",
       "      <td>4.33</td>\n",
       "    </tr>\n",
       "    <tr>\n",
       "      <th>2</th>\n",
       "      <td>Atlanta, GA</td>\n",
       "      <td>2018-03-01 00:00:00</td>\n",
       "      <td>267000</td>\n",
       "      <td>0.088</td>\n",
       "      <td>3073</td>\n",
       "      <td>0.040</td>\n",
       "      <td>2.8</td>\n",
       "      <td>4.444</td>\n",
       "    </tr>\n",
       "    <tr>\n",
       "      <th>3</th>\n",
       "      <td>Atlanta, GA</td>\n",
       "      <td>2018-04-01 00:00:00</td>\n",
       "      <td>279000</td>\n",
       "      <td>0.047</td>\n",
       "      <td>3198</td>\n",
       "      <td>0.041</td>\n",
       "      <td>3.2</td>\n",
       "      <td>4.4675</td>\n",
       "    </tr>\n",
       "    <tr>\n",
       "      <th>4</th>\n",
       "      <td>Atlanta, GA</td>\n",
       "      <td>2018-05-01 00:00:00</td>\n",
       "      <td>295000</td>\n",
       "      <td>0.055</td>\n",
       "      <td>3346</td>\n",
       "      <td>0.046</td>\n",
       "      <td>2.7</td>\n",
       "      <td>4.586</td>\n",
       "    </tr>\n",
       "  </tbody>\n",
       "</table>\n",
       "</div>"
      ],
      "text/plain": [
       "        Region  Month of Period End  Median Sale Price  Median Sale Price MoM  \\\n",
       "0  Atlanta, GA  2018-01-01 00:00:00             251000                 -0.134   \n",
       "1  Atlanta, GA  2018-02-01 00:00:00             246000                 -0.022   \n",
       "2  Atlanta, GA  2018-03-01 00:00:00             267000                  0.088   \n",
       "3  Atlanta, GA  2018-04-01 00:00:00             279000                  0.047   \n",
       "4  Atlanta, GA  2018-05-01 00:00:00             295000                  0.055   \n",
       "\n",
       "   Inventory  Inventory MoM  Supply Mortgage Interested Rate 30  \n",
       "0       2855         -0.016     4.2                      4.0325  \n",
       "1       2955          0.035     3.7                        4.33  \n",
       "2       3073          0.040     2.8                       4.444  \n",
       "3       3198          0.041     3.2                      4.4675  \n",
       "4       3346          0.046     2.7                       4.586  "
      ]
     },
     "execution_count": 26,
     "metadata": {},
     "output_type": "execute_result"
    }
   ],
   "source": [
    "# Renaming the 'MORTGAGE30US' column to 'Mortgage Interested Rate 30'\n",
    "merged_df.rename(columns={'MORTGAGE30US': 'Mortgage Interested Rate 30'}, inplace=True)\n",
    "\n",
    "# Displaying the first few rows to verify the changes\n",
    "merged_df_head_renamed = merged_df.head()\n",
    "merged_df_head_renamed"
   ]
  },
  {
   "cell_type": "code",
   "execution_count": 27,
   "id": "09e82d1c",
   "metadata": {},
   "outputs": [
    {
     "data": {
      "text/html": [
       "<div>\n",
       "<style scoped>\n",
       "    .dataframe tbody tr th:only-of-type {\n",
       "        vertical-align: middle;\n",
       "    }\n",
       "\n",
       "    .dataframe tbody tr th {\n",
       "        vertical-align: top;\n",
       "    }\n",
       "\n",
       "    .dataframe thead th {\n",
       "        text-align: right;\n",
       "    }\n",
       "</style>\n",
       "<table border=\"1\" class=\"dataframe\">\n",
       "  <thead>\n",
       "    <tr style=\"text-align: right;\">\n",
       "      <th></th>\n",
       "      <th>Region</th>\n",
       "      <th>Month of Period End</th>\n",
       "      <th>Median Sale Price</th>\n",
       "      <th>Median Sale Price MoM</th>\n",
       "      <th>Inventory</th>\n",
       "      <th>Inventory MoM</th>\n",
       "      <th>Supply</th>\n",
       "      <th>Mortgage Interested Rate 30</th>\n",
       "    </tr>\n",
       "  </thead>\n",
       "  <tbody>\n",
       "    <tr>\n",
       "      <th>403</th>\n",
       "      <td>St. Charles, MO</td>\n",
       "      <td>2023-04-01 00:00:00</td>\n",
       "      <td>330000</td>\n",
       "      <td>0.009</td>\n",
       "      <td>69</td>\n",
       "      <td>-0.159</td>\n",
       "      <td>0.8</td>\n",
       "      <td>6.3425</td>\n",
       "    </tr>\n",
       "    <tr>\n",
       "      <th>404</th>\n",
       "      <td>St. Charles, MO</td>\n",
       "      <td>2023-05-01 00:00:00</td>\n",
       "      <td>338000</td>\n",
       "      <td>0.023</td>\n",
       "      <td>79</td>\n",
       "      <td>0.145</td>\n",
       "      <td>0.8</td>\n",
       "      <td>6.425</td>\n",
       "    </tr>\n",
       "    <tr>\n",
       "      <th>405</th>\n",
       "      <td>St. Charles, MO</td>\n",
       "      <td>2023-06-01 00:00:00</td>\n",
       "      <td>335000</td>\n",
       "      <td>-0.007</td>\n",
       "      <td>111</td>\n",
       "      <td>0.405</td>\n",
       "      <td>0.9</td>\n",
       "      <td>6.714</td>\n",
       "    </tr>\n",
       "    <tr>\n",
       "      <th>406</th>\n",
       "      <td>St. Charles, MO</td>\n",
       "      <td>2023-07-01 00:00:00</td>\n",
       "      <td>327000</td>\n",
       "      <td>-0.025</td>\n",
       "      <td>109</td>\n",
       "      <td>-0.018</td>\n",
       "      <td>0.9</td>\n",
       "      <td>6.84</td>\n",
       "    </tr>\n",
       "    <tr>\n",
       "      <th>407</th>\n",
       "      <td>St. Charles, MO</td>\n",
       "      <td>2023-08-01 00:00:00</td>\n",
       "      <td>340000</td>\n",
       "      <td>0.041</td>\n",
       "      <td>108</td>\n",
       "      <td>-0.009</td>\n",
       "      <td>0.8</td>\n",
       "      <td>7.072</td>\n",
       "    </tr>\n",
       "  </tbody>\n",
       "</table>\n",
       "</div>"
      ],
      "text/plain": [
       "              Region  Month of Period End  Median Sale Price  \\\n",
       "403  St. Charles, MO  2023-04-01 00:00:00             330000   \n",
       "404  St. Charles, MO  2023-05-01 00:00:00             338000   \n",
       "405  St. Charles, MO  2023-06-01 00:00:00             335000   \n",
       "406  St. Charles, MO  2023-07-01 00:00:00             327000   \n",
       "407  St. Charles, MO  2023-08-01 00:00:00             340000   \n",
       "\n",
       "     Median Sale Price MoM  Inventory  Inventory MoM  Supply  \\\n",
       "403                  0.009         69         -0.159     0.8   \n",
       "404                  0.023         79          0.145     0.8   \n",
       "405                 -0.007        111          0.405     0.9   \n",
       "406                 -0.025        109         -0.018     0.9   \n",
       "407                  0.041        108         -0.009     0.8   \n",
       "\n",
       "    Mortgage Interested Rate 30  \n",
       "403                      6.3425  \n",
       "404                       6.425  \n",
       "405                       6.714  \n",
       "406                        6.84  \n",
       "407                       7.072  "
      ]
     },
     "execution_count": 27,
     "metadata": {},
     "output_type": "execute_result"
    }
   ],
   "source": [
    "merged_df.tail()"
   ]
  },
  {
   "cell_type": "code",
   "execution_count": 28,
   "id": "0cc46615",
   "metadata": {},
   "outputs": [],
   "source": [
    "merged_df.to_csv('House_IR.csv', index=False)"
   ]
  },
  {
   "cell_type": "markdown",
   "id": "bb8e5518",
   "metadata": {},
   "source": [
    "# Merging 4 datasets"
   ]
  },
  {
   "cell_type": "code",
   "execution_count": 30,
   "id": "84e35d70",
   "metadata": {},
   "outputs": [],
   "source": [
    "job_opening_df = pd.read_csv(\"Job Opening.csv\")\n",
    "consumer_price_df = pd.read_csv(\"CPI Rate.csv\")\n",
    "\n",
    "# Converting 'DATE' to datetime format\n",
    "job_opening_df['DATE'] = pd.to_datetime(job_opening_df['DATE'])\n",
    "\n",
    "consumer_price_df['DATE'] = pd.to_datetime(consumer_price_df['DATE'])\n"
   ]
  },
  {
   "cell_type": "code",
   "execution_count": 31,
   "id": "0520b78c",
   "metadata": {},
   "outputs": [],
   "source": [
    "# Convert 'DATE' in interest_rate_df to the same format as 'Month of Period End' in data_df\n",
    "job_opening_df['DATE'] = job_opening_df['DATE'].dt.strftime('%-m/%Y')\n",
    "\n",
    "consumer_price_df['DATE'] = consumer_price_df['DATE'].dt.strftime('%-m/%Y')"
   ]
  },
  {
   "cell_type": "code",
   "execution_count": 32,
   "id": "20efc7b8",
   "metadata": {},
   "outputs": [
    {
     "data": {
      "text/html": [
       "<div>\n",
       "<style scoped>\n",
       "    .dataframe tbody tr th:only-of-type {\n",
       "        vertical-align: middle;\n",
       "    }\n",
       "\n",
       "    .dataframe tbody tr th {\n",
       "        vertical-align: top;\n",
       "    }\n",
       "\n",
       "    .dataframe thead th {\n",
       "        text-align: right;\n",
       "    }\n",
       "</style>\n",
       "<table border=\"1\" class=\"dataframe\">\n",
       "  <thead>\n",
       "    <tr style=\"text-align: right;\">\n",
       "      <th></th>\n",
       "      <th>Region</th>\n",
       "      <th>Month of Period End</th>\n",
       "      <th>Median Sale Price</th>\n",
       "      <th>Median Sale Price MoM</th>\n",
       "      <th>Inventory</th>\n",
       "      <th>Inventory MoM</th>\n",
       "      <th>Supply</th>\n",
       "      <th>Mortgage Interested Rate 30</th>\n",
       "      <th>Year</th>\n",
       "      <th>JTS2300JOL</th>\n",
       "    </tr>\n",
       "  </thead>\n",
       "  <tbody>\n",
       "    <tr>\n",
       "      <th>0</th>\n",
       "      <td>Atlanta, GA</td>\n",
       "      <td>2018-01-01 00:00:00</td>\n",
       "      <td>251000</td>\n",
       "      <td>-0.134</td>\n",
       "      <td>2855</td>\n",
       "      <td>-0.016</td>\n",
       "      <td>4.2</td>\n",
       "      <td>4.0325</td>\n",
       "      <td>2018</td>\n",
       "      <td>250</td>\n",
       "    </tr>\n",
       "    <tr>\n",
       "      <th>1</th>\n",
       "      <td>Atlanta, GA</td>\n",
       "      <td>2018-02-01 00:00:00</td>\n",
       "      <td>246000</td>\n",
       "      <td>-0.022</td>\n",
       "      <td>2955</td>\n",
       "      <td>0.035</td>\n",
       "      <td>3.7</td>\n",
       "      <td>4.33</td>\n",
       "      <td>2018</td>\n",
       "      <td>218</td>\n",
       "    </tr>\n",
       "    <tr>\n",
       "      <th>2</th>\n",
       "      <td>Atlanta, GA</td>\n",
       "      <td>2018-03-01 00:00:00</td>\n",
       "      <td>267000</td>\n",
       "      <td>0.088</td>\n",
       "      <td>3073</td>\n",
       "      <td>0.040</td>\n",
       "      <td>2.8</td>\n",
       "      <td>4.444</td>\n",
       "      <td>2018</td>\n",
       "      <td>223</td>\n",
       "    </tr>\n",
       "    <tr>\n",
       "      <th>3</th>\n",
       "      <td>Atlanta, GA</td>\n",
       "      <td>2018-04-01 00:00:00</td>\n",
       "      <td>279000</td>\n",
       "      <td>0.047</td>\n",
       "      <td>3198</td>\n",
       "      <td>0.041</td>\n",
       "      <td>3.2</td>\n",
       "      <td>4.4675</td>\n",
       "      <td>2018</td>\n",
       "      <td>223</td>\n",
       "    </tr>\n",
       "    <tr>\n",
       "      <th>4</th>\n",
       "      <td>Atlanta, GA</td>\n",
       "      <td>2018-05-01 00:00:00</td>\n",
       "      <td>295000</td>\n",
       "      <td>0.055</td>\n",
       "      <td>3346</td>\n",
       "      <td>0.046</td>\n",
       "      <td>2.7</td>\n",
       "      <td>4.586</td>\n",
       "      <td>2018</td>\n",
       "      <td>266</td>\n",
       "    </tr>\n",
       "  </tbody>\n",
       "</table>\n",
       "</div>"
      ],
      "text/plain": [
       "        Region  Month of Period End  Median Sale Price  Median Sale Price MoM  \\\n",
       "0  Atlanta, GA  2018-01-01 00:00:00             251000                 -0.134   \n",
       "1  Atlanta, GA  2018-02-01 00:00:00             246000                 -0.022   \n",
       "2  Atlanta, GA  2018-03-01 00:00:00             267000                  0.088   \n",
       "3  Atlanta, GA  2018-04-01 00:00:00             279000                  0.047   \n",
       "4  Atlanta, GA  2018-05-01 00:00:00             295000                  0.055   \n",
       "\n",
       "   Inventory  Inventory MoM  Supply Mortgage Interested Rate 30  Year  \\\n",
       "0       2855         -0.016     4.2                      4.0325  2018   \n",
       "1       2955          0.035     3.7                        4.33  2018   \n",
       "2       3073          0.040     2.8                       4.444  2018   \n",
       "3       3198          0.041     3.2                      4.4675  2018   \n",
       "4       3346          0.046     2.7                       4.586  2018   \n",
       "\n",
       "   JTS2300JOL  \n",
       "0         250  \n",
       "1         218  \n",
       "2         223  \n",
       "3         223  \n",
       "4         266  "
      ]
     },
     "execution_count": 32,
     "metadata": {},
     "output_type": "execute_result"
    }
   ],
   "source": [
    "# Merging the two dataframes on the date columns\n",
    "merged_df2 = pd.merge(merged_df, job_opening_df , left_on='Month of Period End', right_on='DATE', how='left')\n",
    "\n",
    "# Drop the redundant 'DATE' column from the merged dataframe\n",
    "merged_df2.drop('DATE', axis=1, inplace=True)\n",
    "\n",
    "# Display the first few rows of the merged dataframe\n",
    "merged_df2_head = merged_df2.head()\n",
    "merged_df2_head"
   ]
  },
  {
   "cell_type": "code",
   "execution_count": 33,
   "id": "7ddf36bc",
   "metadata": {},
   "outputs": [
    {
     "data": {
      "text/html": [
       "<div>\n",
       "<style scoped>\n",
       "    .dataframe tbody tr th:only-of-type {\n",
       "        vertical-align: middle;\n",
       "    }\n",
       "\n",
       "    .dataframe tbody tr th {\n",
       "        vertical-align: top;\n",
       "    }\n",
       "\n",
       "    .dataframe thead th {\n",
       "        text-align: right;\n",
       "    }\n",
       "</style>\n",
       "<table border=\"1\" class=\"dataframe\">\n",
       "  <thead>\n",
       "    <tr style=\"text-align: right;\">\n",
       "      <th></th>\n",
       "      <th>Region</th>\n",
       "      <th>Month of Period End</th>\n",
       "      <th>Median Sale Price</th>\n",
       "      <th>Median Sale Price MoM</th>\n",
       "      <th>Inventory</th>\n",
       "      <th>Inventory MoM</th>\n",
       "      <th>Supply</th>\n",
       "      <th>Mortgage Interested Rate 30</th>\n",
       "      <th>Year</th>\n",
       "      <th>JTS2300JOL</th>\n",
       "      <th>USACPALTT01CTGYM</th>\n",
       "    </tr>\n",
       "  </thead>\n",
       "  <tbody>\n",
       "    <tr>\n",
       "      <th>0</th>\n",
       "      <td>Atlanta, GA</td>\n",
       "      <td>2018-01-01 00:00:00</td>\n",
       "      <td>251000</td>\n",
       "      <td>-0.134</td>\n",
       "      <td>2855</td>\n",
       "      <td>-0.016</td>\n",
       "      <td>4.2</td>\n",
       "      <td>4.0325</td>\n",
       "      <td>2018</td>\n",
       "      <td>250</td>\n",
       "      <td>2.042188</td>\n",
       "    </tr>\n",
       "    <tr>\n",
       "      <th>1</th>\n",
       "      <td>Atlanta, GA</td>\n",
       "      <td>2018-02-01 00:00:00</td>\n",
       "      <td>246000</td>\n",
       "      <td>-0.022</td>\n",
       "      <td>2955</td>\n",
       "      <td>0.035</td>\n",
       "      <td>3.7</td>\n",
       "      <td>4.33</td>\n",
       "      <td>2018</td>\n",
       "      <td>218</td>\n",
       "      <td>2.175117</td>\n",
       "    </tr>\n",
       "    <tr>\n",
       "      <th>2</th>\n",
       "      <td>Atlanta, GA</td>\n",
       "      <td>2018-03-01 00:00:00</td>\n",
       "      <td>267000</td>\n",
       "      <td>0.088</td>\n",
       "      <td>3073</td>\n",
       "      <td>0.040</td>\n",
       "      <td>2.8</td>\n",
       "      <td>4.444</td>\n",
       "      <td>2018</td>\n",
       "      <td>223</td>\n",
       "      <td>2.321361</td>\n",
       "    </tr>\n",
       "    <tr>\n",
       "      <th>3</th>\n",
       "      <td>Atlanta, GA</td>\n",
       "      <td>2018-04-01 00:00:00</td>\n",
       "      <td>279000</td>\n",
       "      <td>0.047</td>\n",
       "      <td>3198</td>\n",
       "      <td>0.041</td>\n",
       "      <td>3.2</td>\n",
       "      <td>4.4675</td>\n",
       "      <td>2018</td>\n",
       "      <td>223</td>\n",
       "      <td>2.406737</td>\n",
       "    </tr>\n",
       "    <tr>\n",
       "      <th>4</th>\n",
       "      <td>Atlanta, GA</td>\n",
       "      <td>2018-05-01 00:00:00</td>\n",
       "      <td>295000</td>\n",
       "      <td>0.055</td>\n",
       "      <td>3346</td>\n",
       "      <td>0.046</td>\n",
       "      <td>2.7</td>\n",
       "      <td>4.586</td>\n",
       "      <td>2018</td>\n",
       "      <td>266</td>\n",
       "      <td>2.725657</td>\n",
       "    </tr>\n",
       "  </tbody>\n",
       "</table>\n",
       "</div>"
      ],
      "text/plain": [
       "        Region  Month of Period End  Median Sale Price  Median Sale Price MoM  \\\n",
       "0  Atlanta, GA  2018-01-01 00:00:00             251000                 -0.134   \n",
       "1  Atlanta, GA  2018-02-01 00:00:00             246000                 -0.022   \n",
       "2  Atlanta, GA  2018-03-01 00:00:00             267000                  0.088   \n",
       "3  Atlanta, GA  2018-04-01 00:00:00             279000                  0.047   \n",
       "4  Atlanta, GA  2018-05-01 00:00:00             295000                  0.055   \n",
       "\n",
       "   Inventory  Inventory MoM  Supply Mortgage Interested Rate 30  Year  \\\n",
       "0       2855         -0.016     4.2                      4.0325  2018   \n",
       "1       2955          0.035     3.7                        4.33  2018   \n",
       "2       3073          0.040     2.8                       4.444  2018   \n",
       "3       3198          0.041     3.2                      4.4675  2018   \n",
       "4       3346          0.046     2.7                       4.586  2018   \n",
       "\n",
       "   JTS2300JOL  USACPALTT01CTGYM  \n",
       "0         250          2.042188  \n",
       "1         218          2.175117  \n",
       "2         223          2.321361  \n",
       "3         223          2.406737  \n",
       "4         266          2.725657  "
      ]
     },
     "execution_count": 33,
     "metadata": {},
     "output_type": "execute_result"
    }
   ],
   "source": [
    "# Merging the two dataframes on the date columns\n",
    "merged_df3 = pd.merge(merged_df2, consumer_price_df , left_on='Month of Period End', right_on='DATE', how='left')\n",
    "\n",
    "# Drop the redundant 'DATE' column from the merged dataframe\n",
    "merged_df3.drop('DATE', axis=1, inplace=True)\n",
    "\n",
    "# Display the first few rows of the merged dataframe\n",
    "merged_df3_head = merged_df3.head()\n",
    "merged_df3_head"
   ]
  },
  {
   "cell_type": "code",
   "execution_count": 34,
   "id": "7446187b",
   "metadata": {},
   "outputs": [],
   "source": [
    "# Rename columns\n",
    "merged_df3.rename(columns={'JTS2300JOL': 'Job Opening in Construction'}, inplace=True)\n",
    "\n",
    "merged_df3.rename(columns={'USACPALTT01CTGYM': 'CPI'}, inplace=True)"
   ]
  },
  {
   "cell_type": "code",
   "execution_count": 35,
   "id": "cc854cea",
   "metadata": {},
   "outputs": [
    {
     "data": {
      "text/html": [
       "<div>\n",
       "<style scoped>\n",
       "    .dataframe tbody tr th:only-of-type {\n",
       "        vertical-align: middle;\n",
       "    }\n",
       "\n",
       "    .dataframe tbody tr th {\n",
       "        vertical-align: top;\n",
       "    }\n",
       "\n",
       "    .dataframe thead th {\n",
       "        text-align: right;\n",
       "    }\n",
       "</style>\n",
       "<table border=\"1\" class=\"dataframe\">\n",
       "  <thead>\n",
       "    <tr style=\"text-align: right;\">\n",
       "      <th></th>\n",
       "      <th>Region</th>\n",
       "      <th>Month of Period End</th>\n",
       "      <th>Median Sale Price</th>\n",
       "      <th>Median Sale Price MoM</th>\n",
       "      <th>Inventory</th>\n",
       "      <th>Inventory MoM</th>\n",
       "      <th>Supply</th>\n",
       "      <th>Mortgage Interested Rate 30</th>\n",
       "      <th>Year</th>\n",
       "      <th>Job Opening in Construction</th>\n",
       "      <th>CPI</th>\n",
       "    </tr>\n",
       "  </thead>\n",
       "  <tbody>\n",
       "    <tr>\n",
       "      <th>0</th>\n",
       "      <td>Atlanta, GA</td>\n",
       "      <td>2018-01-01 00:00:00</td>\n",
       "      <td>251000</td>\n",
       "      <td>-0.134</td>\n",
       "      <td>2855</td>\n",
       "      <td>-0.016</td>\n",
       "      <td>4.2</td>\n",
       "      <td>4.0325</td>\n",
       "      <td>2018</td>\n",
       "      <td>250</td>\n",
       "      <td>2.042188</td>\n",
       "    </tr>\n",
       "    <tr>\n",
       "      <th>1</th>\n",
       "      <td>Atlanta, GA</td>\n",
       "      <td>2018-02-01 00:00:00</td>\n",
       "      <td>246000</td>\n",
       "      <td>-0.022</td>\n",
       "      <td>2955</td>\n",
       "      <td>0.035</td>\n",
       "      <td>3.7</td>\n",
       "      <td>4.33</td>\n",
       "      <td>2018</td>\n",
       "      <td>218</td>\n",
       "      <td>2.175117</td>\n",
       "    </tr>\n",
       "    <tr>\n",
       "      <th>2</th>\n",
       "      <td>Atlanta, GA</td>\n",
       "      <td>2018-03-01 00:00:00</td>\n",
       "      <td>267000</td>\n",
       "      <td>0.088</td>\n",
       "      <td>3073</td>\n",
       "      <td>0.040</td>\n",
       "      <td>2.8</td>\n",
       "      <td>4.444</td>\n",
       "      <td>2018</td>\n",
       "      <td>223</td>\n",
       "      <td>2.321361</td>\n",
       "    </tr>\n",
       "    <tr>\n",
       "      <th>3</th>\n",
       "      <td>Atlanta, GA</td>\n",
       "      <td>2018-04-01 00:00:00</td>\n",
       "      <td>279000</td>\n",
       "      <td>0.047</td>\n",
       "      <td>3198</td>\n",
       "      <td>0.041</td>\n",
       "      <td>3.2</td>\n",
       "      <td>4.4675</td>\n",
       "      <td>2018</td>\n",
       "      <td>223</td>\n",
       "      <td>2.406737</td>\n",
       "    </tr>\n",
       "    <tr>\n",
       "      <th>4</th>\n",
       "      <td>Atlanta, GA</td>\n",
       "      <td>2018-05-01 00:00:00</td>\n",
       "      <td>295000</td>\n",
       "      <td>0.055</td>\n",
       "      <td>3346</td>\n",
       "      <td>0.046</td>\n",
       "      <td>2.7</td>\n",
       "      <td>4.586</td>\n",
       "      <td>2018</td>\n",
       "      <td>266</td>\n",
       "      <td>2.725657</td>\n",
       "    </tr>\n",
       "  </tbody>\n",
       "</table>\n",
       "</div>"
      ],
      "text/plain": [
       "        Region  Month of Period End  Median Sale Price  Median Sale Price MoM  \\\n",
       "0  Atlanta, GA  2018-01-01 00:00:00             251000                 -0.134   \n",
       "1  Atlanta, GA  2018-02-01 00:00:00             246000                 -0.022   \n",
       "2  Atlanta, GA  2018-03-01 00:00:00             267000                  0.088   \n",
       "3  Atlanta, GA  2018-04-01 00:00:00             279000                  0.047   \n",
       "4  Atlanta, GA  2018-05-01 00:00:00             295000                  0.055   \n",
       "\n",
       "   Inventory  Inventory MoM  Supply Mortgage Interested Rate 30  Year  \\\n",
       "0       2855         -0.016     4.2                      4.0325  2018   \n",
       "1       2955          0.035     3.7                        4.33  2018   \n",
       "2       3073          0.040     2.8                       4.444  2018   \n",
       "3       3198          0.041     3.2                      4.4675  2018   \n",
       "4       3346          0.046     2.7                       4.586  2018   \n",
       "\n",
       "   Job Opening in Construction       CPI  \n",
       "0                          250  2.042188  \n",
       "1                          218  2.175117  \n",
       "2                          223  2.321361  \n",
       "3                          223  2.406737  \n",
       "4                          266  2.725657  "
      ]
     },
     "execution_count": 35,
     "metadata": {},
     "output_type": "execute_result"
    }
   ],
   "source": [
    "merged_df3.head()"
   ]
  },
  {
   "cell_type": "code",
   "execution_count": 36,
   "id": "678eb733",
   "metadata": {},
   "outputs": [],
   "source": [
    "merged_df3.to_csv('Merged_DF.csv', index=False)"
   ]
  },
  {
   "cell_type": "code",
   "execution_count": 37,
   "id": "7b2daede",
   "metadata": {},
   "outputs": [
    {
     "ename": "DataError",
     "evalue": "No numeric types to aggregate",
     "output_type": "error",
     "traceback": [
      "\u001b[1;31m---------------------------------------------------------------------------\u001b[0m",
      "\u001b[1;31mDataError\u001b[0m                                 Traceback (most recent call last)",
      "\u001b[1;32m<ipython-input-37-a26dfc724325>\u001b[0m in \u001b[0;36m<module>\u001b[1;34m\u001b[0m\n\u001b[0;32m      3\u001b[0m \u001b[1;33m\u001b[0m\u001b[0m\n\u001b[0;32m      4\u001b[0m \u001b[1;31m# Grouping by Region and Year to get the average median sale price and interest rate for each year\u001b[0m\u001b[1;33m\u001b[0m\u001b[1;33m\u001b[0m\u001b[1;33m\u001b[0m\u001b[0m\n\u001b[1;32m----> 5\u001b[1;33m grouped_df = filtered_df.groupby(['Region', 'Year']).agg({\n\u001b[0m\u001b[0;32m      6\u001b[0m     \u001b[1;34m'Median Sale Price'\u001b[0m\u001b[1;33m:\u001b[0m \u001b[1;34m'mean'\u001b[0m\u001b[1;33m,\u001b[0m\u001b[1;33m\u001b[0m\u001b[1;33m\u001b[0m\u001b[0m\n\u001b[0;32m      7\u001b[0m     \u001b[1;34m'Inventory'\u001b[0m\u001b[1;33m:\u001b[0m \u001b[1;34m'mean'\u001b[0m\u001b[1;33m,\u001b[0m\u001b[1;33m\u001b[0m\u001b[1;33m\u001b[0m\u001b[0m\n",
      "\u001b[1;32m~\\anaconda3\\lib\\site-packages\\pandas\\core\\groupby\\generic.py\u001b[0m in \u001b[0;36maggregate\u001b[1;34m(self, func, engine, engine_kwargs, *args, **kwargs)\u001b[0m\n\u001b[0;32m    943\u001b[0m         \u001b[0mfunc\u001b[0m \u001b[1;33m=\u001b[0m \u001b[0mmaybe_mangle_lambdas\u001b[0m\u001b[1;33m(\u001b[0m\u001b[0mfunc\u001b[0m\u001b[1;33m)\u001b[0m\u001b[1;33m\u001b[0m\u001b[1;33m\u001b[0m\u001b[0m\n\u001b[0;32m    944\u001b[0m \u001b[1;33m\u001b[0m\u001b[0m\n\u001b[1;32m--> 945\u001b[1;33m         \u001b[0mresult\u001b[0m\u001b[1;33m,\u001b[0m \u001b[0mhow\u001b[0m \u001b[1;33m=\u001b[0m \u001b[0maggregate\u001b[0m\u001b[1;33m(\u001b[0m\u001b[0mself\u001b[0m\u001b[1;33m,\u001b[0m \u001b[0mfunc\u001b[0m\u001b[1;33m,\u001b[0m \u001b[1;33m*\u001b[0m\u001b[0margs\u001b[0m\u001b[1;33m,\u001b[0m \u001b[1;33m**\u001b[0m\u001b[0mkwargs\u001b[0m\u001b[1;33m)\u001b[0m\u001b[1;33m\u001b[0m\u001b[1;33m\u001b[0m\u001b[0m\n\u001b[0m\u001b[0;32m    946\u001b[0m         \u001b[1;32mif\u001b[0m \u001b[0mhow\u001b[0m \u001b[1;32mis\u001b[0m \u001b[1;32mNone\u001b[0m\u001b[1;33m:\u001b[0m\u001b[1;33m\u001b[0m\u001b[1;33m\u001b[0m\u001b[0m\n\u001b[0;32m    947\u001b[0m             \u001b[1;32mreturn\u001b[0m \u001b[0mresult\u001b[0m\u001b[1;33m\u001b[0m\u001b[1;33m\u001b[0m\u001b[0m\n",
      "\u001b[1;32m~\\anaconda3\\lib\\site-packages\\pandas\\core\\aggregation.py\u001b[0m in \u001b[0;36maggregate\u001b[1;34m(obj, arg, *args, **kwargs)\u001b[0m\n\u001b[0;32m    580\u001b[0m     \u001b[1;32melif\u001b[0m \u001b[0mis_dict_like\u001b[0m\u001b[1;33m(\u001b[0m\u001b[0marg\u001b[0m\u001b[1;33m)\u001b[0m\u001b[1;33m:\u001b[0m\u001b[1;33m\u001b[0m\u001b[1;33m\u001b[0m\u001b[0m\n\u001b[0;32m    581\u001b[0m         \u001b[0marg\u001b[0m \u001b[1;33m=\u001b[0m \u001b[0mcast\u001b[0m\u001b[1;33m(\u001b[0m\u001b[0mAggFuncTypeDict\u001b[0m\u001b[1;33m,\u001b[0m \u001b[0marg\u001b[0m\u001b[1;33m)\u001b[0m\u001b[1;33m\u001b[0m\u001b[1;33m\u001b[0m\u001b[0m\n\u001b[1;32m--> 582\u001b[1;33m         \u001b[1;32mreturn\u001b[0m \u001b[0magg_dict_like\u001b[0m\u001b[1;33m(\u001b[0m\u001b[0mobj\u001b[0m\u001b[1;33m,\u001b[0m \u001b[0marg\u001b[0m\u001b[1;33m,\u001b[0m \u001b[0m_axis\u001b[0m\u001b[1;33m)\u001b[0m\u001b[1;33m,\u001b[0m \u001b[1;32mTrue\u001b[0m\u001b[1;33m\u001b[0m\u001b[1;33m\u001b[0m\u001b[0m\n\u001b[0m\u001b[0;32m    583\u001b[0m     \u001b[1;32melif\u001b[0m \u001b[0mis_list_like\u001b[0m\u001b[1;33m(\u001b[0m\u001b[0marg\u001b[0m\u001b[1;33m)\u001b[0m\u001b[1;33m:\u001b[0m\u001b[1;33m\u001b[0m\u001b[1;33m\u001b[0m\u001b[0m\n\u001b[0;32m    584\u001b[0m         \u001b[1;31m# we require a list, but not an 'str'\u001b[0m\u001b[1;33m\u001b[0m\u001b[1;33m\u001b[0m\u001b[1;33m\u001b[0m\u001b[0m\n",
      "\u001b[1;32m~\\anaconda3\\lib\\site-packages\\pandas\\core\\aggregation.py\u001b[0m in \u001b[0;36magg_dict_like\u001b[1;34m(obj, arg, _axis)\u001b[0m\n\u001b[0;32m    766\u001b[0m     \u001b[1;32melse\u001b[0m\u001b[1;33m:\u001b[0m\u001b[1;33m\u001b[0m\u001b[1;33m\u001b[0m\u001b[0m\n\u001b[0;32m    767\u001b[0m         \u001b[1;31m# key used for column selection and output\u001b[0m\u001b[1;33m\u001b[0m\u001b[1;33m\u001b[0m\u001b[1;33m\u001b[0m\u001b[0m\n\u001b[1;32m--> 768\u001b[1;33m         \u001b[0mresults\u001b[0m \u001b[1;33m=\u001b[0m \u001b[1;33m{\u001b[0m\u001b[0mkey\u001b[0m\u001b[1;33m:\u001b[0m \u001b[0mobj\u001b[0m\u001b[1;33m.\u001b[0m\u001b[0m_gotitem\u001b[0m\u001b[1;33m(\u001b[0m\u001b[0mkey\u001b[0m\u001b[1;33m,\u001b[0m \u001b[0mndim\u001b[0m\u001b[1;33m=\u001b[0m\u001b[1;36m1\u001b[0m\u001b[1;33m)\u001b[0m\u001b[1;33m.\u001b[0m\u001b[0magg\u001b[0m\u001b[1;33m(\u001b[0m\u001b[0mhow\u001b[0m\u001b[1;33m)\u001b[0m \u001b[1;32mfor\u001b[0m \u001b[0mkey\u001b[0m\u001b[1;33m,\u001b[0m \u001b[0mhow\u001b[0m \u001b[1;32min\u001b[0m \u001b[0marg\u001b[0m\u001b[1;33m.\u001b[0m\u001b[0mitems\u001b[0m\u001b[1;33m(\u001b[0m\u001b[1;33m)\u001b[0m\u001b[1;33m}\u001b[0m\u001b[1;33m\u001b[0m\u001b[1;33m\u001b[0m\u001b[0m\n\u001b[0m\u001b[0;32m    769\u001b[0m \u001b[1;33m\u001b[0m\u001b[0m\n\u001b[0;32m    770\u001b[0m     \u001b[1;31m# set the final keys\u001b[0m\u001b[1;33m\u001b[0m\u001b[1;33m\u001b[0m\u001b[1;33m\u001b[0m\u001b[0m\n",
      "\u001b[1;32m~\\anaconda3\\lib\\site-packages\\pandas\\core\\aggregation.py\u001b[0m in \u001b[0;36m<dictcomp>\u001b[1;34m(.0)\u001b[0m\n\u001b[0;32m    766\u001b[0m     \u001b[1;32melse\u001b[0m\u001b[1;33m:\u001b[0m\u001b[1;33m\u001b[0m\u001b[1;33m\u001b[0m\u001b[0m\n\u001b[0;32m    767\u001b[0m         \u001b[1;31m# key used for column selection and output\u001b[0m\u001b[1;33m\u001b[0m\u001b[1;33m\u001b[0m\u001b[1;33m\u001b[0m\u001b[0m\n\u001b[1;32m--> 768\u001b[1;33m         \u001b[0mresults\u001b[0m \u001b[1;33m=\u001b[0m \u001b[1;33m{\u001b[0m\u001b[0mkey\u001b[0m\u001b[1;33m:\u001b[0m \u001b[0mobj\u001b[0m\u001b[1;33m.\u001b[0m\u001b[0m_gotitem\u001b[0m\u001b[1;33m(\u001b[0m\u001b[0mkey\u001b[0m\u001b[1;33m,\u001b[0m \u001b[0mndim\u001b[0m\u001b[1;33m=\u001b[0m\u001b[1;36m1\u001b[0m\u001b[1;33m)\u001b[0m\u001b[1;33m.\u001b[0m\u001b[0magg\u001b[0m\u001b[1;33m(\u001b[0m\u001b[0mhow\u001b[0m\u001b[1;33m)\u001b[0m \u001b[1;32mfor\u001b[0m \u001b[0mkey\u001b[0m\u001b[1;33m,\u001b[0m \u001b[0mhow\u001b[0m \u001b[1;32min\u001b[0m \u001b[0marg\u001b[0m\u001b[1;33m.\u001b[0m\u001b[0mitems\u001b[0m\u001b[1;33m(\u001b[0m\u001b[1;33m)\u001b[0m\u001b[1;33m}\u001b[0m\u001b[1;33m\u001b[0m\u001b[1;33m\u001b[0m\u001b[0m\n\u001b[0m\u001b[0;32m    769\u001b[0m \u001b[1;33m\u001b[0m\u001b[0m\n\u001b[0;32m    770\u001b[0m     \u001b[1;31m# set the final keys\u001b[0m\u001b[1;33m\u001b[0m\u001b[1;33m\u001b[0m\u001b[1;33m\u001b[0m\u001b[0m\n",
      "\u001b[1;32m~\\anaconda3\\lib\\site-packages\\pandas\\core\\groupby\\generic.py\u001b[0m in \u001b[0;36maggregate\u001b[1;34m(self, func, engine, engine_kwargs, *args, **kwargs)\u001b[0m\n\u001b[0;32m    239\u001b[0m \u001b[1;33m\u001b[0m\u001b[0m\n\u001b[0;32m    240\u001b[0m         \u001b[1;32mif\u001b[0m \u001b[0misinstance\u001b[0m\u001b[1;33m(\u001b[0m\u001b[0mfunc\u001b[0m\u001b[1;33m,\u001b[0m \u001b[0mstr\u001b[0m\u001b[1;33m)\u001b[0m\u001b[1;33m:\u001b[0m\u001b[1;33m\u001b[0m\u001b[1;33m\u001b[0m\u001b[0m\n\u001b[1;32m--> 241\u001b[1;33m             \u001b[1;32mreturn\u001b[0m \u001b[0mgetattr\u001b[0m\u001b[1;33m(\u001b[0m\u001b[0mself\u001b[0m\u001b[1;33m,\u001b[0m \u001b[0mfunc\u001b[0m\u001b[1;33m)\u001b[0m\u001b[1;33m(\u001b[0m\u001b[1;33m*\u001b[0m\u001b[0margs\u001b[0m\u001b[1;33m,\u001b[0m \u001b[1;33m**\u001b[0m\u001b[0mkwargs\u001b[0m\u001b[1;33m)\u001b[0m\u001b[1;33m\u001b[0m\u001b[1;33m\u001b[0m\u001b[0m\n\u001b[0m\u001b[0;32m    242\u001b[0m \u001b[1;33m\u001b[0m\u001b[0m\n\u001b[0;32m    243\u001b[0m         \u001b[1;32melif\u001b[0m \u001b[0misinstance\u001b[0m\u001b[1;33m(\u001b[0m\u001b[0mfunc\u001b[0m\u001b[1;33m,\u001b[0m \u001b[0mabc\u001b[0m\u001b[1;33m.\u001b[0m\u001b[0mIterable\u001b[0m\u001b[1;33m)\u001b[0m\u001b[1;33m:\u001b[0m\u001b[1;33m\u001b[0m\u001b[1;33m\u001b[0m\u001b[0m\n",
      "\u001b[1;32m~\\anaconda3\\lib\\site-packages\\pandas\\core\\groupby\\groupby.py\u001b[0m in \u001b[0;36mmean\u001b[1;34m(self, numeric_only)\u001b[0m\n\u001b[0;32m   1494\u001b[0m         \u001b[0mName\u001b[0m\u001b[1;33m:\u001b[0m \u001b[0mB\u001b[0m\u001b[1;33m,\u001b[0m \u001b[0mdtype\u001b[0m\u001b[1;33m:\u001b[0m \u001b[0mfloat64\u001b[0m\u001b[1;33m\u001b[0m\u001b[1;33m\u001b[0m\u001b[0m\n\u001b[0;32m   1495\u001b[0m         \"\"\"\n\u001b[1;32m-> 1496\u001b[1;33m         return self._cython_agg_general(\n\u001b[0m\u001b[0;32m   1497\u001b[0m             \u001b[1;34m\"mean\"\u001b[0m\u001b[1;33m,\u001b[0m\u001b[1;33m\u001b[0m\u001b[1;33m\u001b[0m\u001b[0m\n\u001b[0;32m   1498\u001b[0m             \u001b[0malt\u001b[0m\u001b[1;33m=\u001b[0m\u001b[1;32mlambda\u001b[0m \u001b[0mx\u001b[0m\u001b[1;33m,\u001b[0m \u001b[0maxis\u001b[0m\u001b[1;33m:\u001b[0m \u001b[0mSeries\u001b[0m\u001b[1;33m(\u001b[0m\u001b[0mx\u001b[0m\u001b[1;33m)\u001b[0m\u001b[1;33m.\u001b[0m\u001b[0mmean\u001b[0m\u001b[1;33m(\u001b[0m\u001b[0mnumeric_only\u001b[0m\u001b[1;33m=\u001b[0m\u001b[0mnumeric_only\u001b[0m\u001b[1;33m)\u001b[0m\u001b[1;33m,\u001b[0m\u001b[1;33m\u001b[0m\u001b[1;33m\u001b[0m\u001b[0m\n",
      "\u001b[1;32m~\\anaconda3\\lib\\site-packages\\pandas\\core\\groupby\\groupby.py\u001b[0m in \u001b[0;36m_cython_agg_general\u001b[1;34m(self, how, alt, numeric_only, min_count)\u001b[0m\n\u001b[0;32m   1079\u001b[0m \u001b[1;33m\u001b[0m\u001b[0m\n\u001b[0;32m   1080\u001b[0m         \u001b[1;32mif\u001b[0m \u001b[1;32mnot\u001b[0m \u001b[0moutput\u001b[0m\u001b[1;33m:\u001b[0m\u001b[1;33m\u001b[0m\u001b[1;33m\u001b[0m\u001b[0m\n\u001b[1;32m-> 1081\u001b[1;33m             \u001b[1;32mraise\u001b[0m \u001b[0mDataError\u001b[0m\u001b[1;33m(\u001b[0m\u001b[1;34m\"No numeric types to aggregate\"\u001b[0m\u001b[1;33m)\u001b[0m\u001b[1;33m\u001b[0m\u001b[1;33m\u001b[0m\u001b[0m\n\u001b[0m\u001b[0;32m   1082\u001b[0m \u001b[1;33m\u001b[0m\u001b[0m\n\u001b[0;32m   1083\u001b[0m         \u001b[1;32mreturn\u001b[0m \u001b[0mself\u001b[0m\u001b[1;33m.\u001b[0m\u001b[0m_wrap_aggregated_output\u001b[0m\u001b[1;33m(\u001b[0m\u001b[0moutput\u001b[0m\u001b[1;33m,\u001b[0m \u001b[0mindex\u001b[0m\u001b[1;33m=\u001b[0m\u001b[0mself\u001b[0m\u001b[1;33m.\u001b[0m\u001b[0mgrouper\u001b[0m\u001b[1;33m.\u001b[0m\u001b[0mresult_index\u001b[0m\u001b[1;33m)\u001b[0m\u001b[1;33m\u001b[0m\u001b[1;33m\u001b[0m\u001b[0m\n",
      "\u001b[1;31mDataError\u001b[0m: No numeric types to aggregate"
     ]
    }
   ],
   "source": [
    "# Filtering the dataset for the years 2018-2019\n",
    "filtered_df = merged_df3[merged_df3['Year'].isin([2018, 2019, 2020, 2021, 2022, 2023])]\n",
    "\n",
    "# Grouping by Region and Year to get the average median sale price and interest rate for each year\n",
    "grouped_df = filtered_df.groupby(['Region', 'Year']).agg({\n",
    "    'Median Sale Price': 'mean',\n",
    "    'Inventory': 'mean',\n",
    "    'Supply': 'mean',\n",
    "    'Mortgage Interested Rate 30': 'mean',\n",
    "    'Job Opening in Construction': 'mean',\n",
    "    'CPI' : 'mean'\n",
    "}).reset_index()\n",
    "\n",
    "grouped_df.head()"
   ]
  },
  {
   "cell_type": "code",
   "execution_count": null,
   "id": "6f88fa29",
   "metadata": {},
   "outputs": [],
   "source": [
    "grouped_df.to_csv('Grouped Data1.csv', index=False)"
   ]
  },
  {
   "cell_type": "markdown",
   "id": "f1af262e",
   "metadata": {},
   "source": [
    "# Compare before and after Covid-19 \n",
    "## Relationship between Home Price vs Interest Rate"
   ]
  },
  {
   "cell_type": "code",
   "execution_count": 29,
   "id": "c67cb59b",
   "metadata": {},
   "outputs": [],
   "source": [
    "# Extracting the year from the 'Month of Period End' column and adding it as a new column\n",
    "merged_df['Year'] = pd.to_datetime(merged_df['Month of Period End']).dt.year"
   ]
  },
  {
   "cell_type": "code",
   "execution_count": 38,
   "id": "02394216",
   "metadata": {},
   "outputs": [
    {
     "data": {
      "text/plain": [
       "Index(['Region', 'Month of Period End', 'Median Sale Price',\n",
       "       'Median Sale Price MoM', 'Inventory', 'Inventory MoM', 'Supply',\n",
       "       'Mortgage Interested Rate 30', 'Year'],\n",
       "      dtype='object')"
      ]
     },
     "execution_count": 38,
     "metadata": {},
     "output_type": "execute_result"
    }
   ],
   "source": [
    "merged_df.columns"
   ]
  },
  {
   "cell_type": "code",
   "execution_count": 39,
   "id": "20a792a6",
   "metadata": {},
   "outputs": [
    {
     "data": {
      "text/plain": [
       "Region                          object\n",
       "Month of Period End             object\n",
       "Median Sale Price                int32\n",
       "Median Sale Price MoM          float64\n",
       "Inventory                        int32\n",
       "Inventory MoM                  float64\n",
       "Supply                         float64\n",
       "Mortgage Interested Rate 30     object\n",
       "Year                             int64\n",
       "dtype: object"
      ]
     },
     "execution_count": 39,
     "metadata": {},
     "output_type": "execute_result"
    }
   ],
   "source": [
    "merged_df.dtypes"
   ]
  },
  {
   "cell_type": "code",
   "execution_count": 40,
   "id": "7c9821fe",
   "metadata": {},
   "outputs": [],
   "source": [
    "# Convert 'Mortgage Interested Rate 30' column to a float data type\n",
    "merged_df['Mortgage Interested Rate 30'] = pd.to_numeric(merged_df['Mortgage Interested Rate 30'], errors='coerce')"
   ]
  },
  {
   "cell_type": "code",
   "execution_count": 41,
   "id": "e0e7784e",
   "metadata": {},
   "outputs": [
    {
     "data": {
      "text/html": [
       "<div>\n",
       "<style scoped>\n",
       "    .dataframe tbody tr th:only-of-type {\n",
       "        vertical-align: middle;\n",
       "    }\n",
       "\n",
       "    .dataframe tbody tr th {\n",
       "        vertical-align: top;\n",
       "    }\n",
       "\n",
       "    .dataframe thead th {\n",
       "        text-align: right;\n",
       "    }\n",
       "</style>\n",
       "<table border=\"1\" class=\"dataframe\">\n",
       "  <thead>\n",
       "    <tr style=\"text-align: right;\">\n",
       "      <th></th>\n",
       "      <th>Region</th>\n",
       "      <th>Year</th>\n",
       "      <th>Median Sale Price</th>\n",
       "      <th>Mortgage Interested Rate 30</th>\n",
       "    </tr>\n",
       "  </thead>\n",
       "  <tbody>\n",
       "    <tr>\n",
       "      <th>0</th>\n",
       "      <td>Atlanta, GA</td>\n",
       "      <td>2018</td>\n",
       "      <td>287500</td>\n",
       "      <td>4.539042</td>\n",
       "    </tr>\n",
       "    <tr>\n",
       "      <th>1</th>\n",
       "      <td>Atlanta, GA</td>\n",
       "      <td>2019</td>\n",
       "      <td>306500</td>\n",
       "      <td>3.933750</td>\n",
       "    </tr>\n",
       "    <tr>\n",
       "      <th>2</th>\n",
       "      <td>Lakeville, MN</td>\n",
       "      <td>2018</td>\n",
       "      <td>352500</td>\n",
       "      <td>4.539042</td>\n",
       "    </tr>\n",
       "    <tr>\n",
       "      <th>3</th>\n",
       "      <td>Lakeville, MN</td>\n",
       "      <td>2019</td>\n",
       "      <td>370000</td>\n",
       "      <td>3.933750</td>\n",
       "    </tr>\n",
       "    <tr>\n",
       "      <th>4</th>\n",
       "      <td>Marietta, GA</td>\n",
       "      <td>2018</td>\n",
       "      <td>279000</td>\n",
       "      <td>4.539042</td>\n",
       "    </tr>\n",
       "  </tbody>\n",
       "</table>\n",
       "</div>"
      ],
      "text/plain": [
       "          Region  Year  Median Sale Price  Mortgage Interested Rate 30\n",
       "0    Atlanta, GA  2018             287500                     4.539042\n",
       "1    Atlanta, GA  2019             306500                     3.933750\n",
       "2  Lakeville, MN  2018             352500                     4.539042\n",
       "3  Lakeville, MN  2019             370000                     3.933750\n",
       "4   Marietta, GA  2018             279000                     4.539042"
      ]
     },
     "execution_count": 41,
     "metadata": {},
     "output_type": "execute_result"
    }
   ],
   "source": [
    "# Filtering the dataset for the years 2018-2019\n",
    "filtered_df_2018_2019 = merged_df[merged_df['Year'].isin([2018, 2019])]\n",
    "\n",
    "# Grouping by Region and Year to get the average median sale price and interest rate for each year\n",
    "SaleIR_grouped_df_2018_2019 = filtered_df_2018_2019.groupby(['Region', 'Year']).agg({\n",
    "    'Median Sale Price': 'median',\n",
    "    'Mortgage Interested Rate 30': 'mean'\n",
    "}).reset_index()\n",
    "\n",
    "SaleIR_grouped_df_2018_2019.head()"
   ]
  },
  {
   "cell_type": "code",
   "execution_count": 42,
   "id": "3cd07241",
   "metadata": {},
   "outputs": [
    {
     "data": {
      "text/html": [
       "<div>\n",
       "<style scoped>\n",
       "    .dataframe tbody tr th:only-of-type {\n",
       "        vertical-align: middle;\n",
       "    }\n",
       "\n",
       "    .dataframe tbody tr th {\n",
       "        vertical-align: top;\n",
       "    }\n",
       "\n",
       "    .dataframe thead th {\n",
       "        text-align: right;\n",
       "    }\n",
       "</style>\n",
       "<table border=\"1\" class=\"dataframe\">\n",
       "  <thead>\n",
       "    <tr style=\"text-align: right;\">\n",
       "      <th></th>\n",
       "      <th>Region</th>\n",
       "      <th>Year</th>\n",
       "      <th>Median Sale Price</th>\n",
       "      <th>Mortgage Interested Rate 30</th>\n",
       "    </tr>\n",
       "  </thead>\n",
       "  <tbody>\n",
       "    <tr>\n",
       "      <th>0</th>\n",
       "      <td>Atlanta, GA</td>\n",
       "      <td>2020</td>\n",
       "      <td>346500</td>\n",
       "      <td>3.113667</td>\n",
       "    </tr>\n",
       "    <tr>\n",
       "      <th>1</th>\n",
       "      <td>Atlanta, GA</td>\n",
       "      <td>2021</td>\n",
       "      <td>373500</td>\n",
       "      <td>2.955708</td>\n",
       "    </tr>\n",
       "    <tr>\n",
       "      <th>2</th>\n",
       "      <td>Lakeville, MN</td>\n",
       "      <td>2020</td>\n",
       "      <td>393000</td>\n",
       "      <td>3.113667</td>\n",
       "    </tr>\n",
       "    <tr>\n",
       "      <th>3</th>\n",
       "      <td>Lakeville, MN</td>\n",
       "      <td>2021</td>\n",
       "      <td>435500</td>\n",
       "      <td>2.955708</td>\n",
       "    </tr>\n",
       "    <tr>\n",
       "      <th>4</th>\n",
       "      <td>Marietta, GA</td>\n",
       "      <td>2020</td>\n",
       "      <td>325500</td>\n",
       "      <td>3.113667</td>\n",
       "    </tr>\n",
       "  </tbody>\n",
       "</table>\n",
       "</div>"
      ],
      "text/plain": [
       "          Region  Year  Median Sale Price  Mortgage Interested Rate 30\n",
       "0    Atlanta, GA  2020             346500                     3.113667\n",
       "1    Atlanta, GA  2021             373500                     2.955708\n",
       "2  Lakeville, MN  2020             393000                     3.113667\n",
       "3  Lakeville, MN  2021             435500                     2.955708\n",
       "4   Marietta, GA  2020             325500                     3.113667"
      ]
     },
     "execution_count": 42,
     "metadata": {},
     "output_type": "execute_result"
    }
   ],
   "source": [
    "# Filtering the dataset for the years 2020-2021\n",
    "filtered_df_2020_2021 = merged_df[merged_df['Year'].isin([2020, 2021])]\n",
    "\n",
    "# Grouping by Region and Year to get the average median sale price and interest rate for each year\n",
    "SaleIR_grouped_df_2020_2021 = filtered_df_2020_2021.groupby(['Region', 'Year']).agg({\n",
    "    'Median Sale Price': 'median',\n",
    "    'Mortgage Interested Rate 30': 'mean'\n",
    "}).reset_index()\n",
    "\n",
    "SaleIR_grouped_df_2020_2021.head()"
   ]
  },
  {
   "cell_type": "code",
   "execution_count": 43,
   "id": "8ff69e21",
   "metadata": {},
   "outputs": [
    {
     "data": {
      "text/html": [
       "<div>\n",
       "<style scoped>\n",
       "    .dataframe tbody tr th:only-of-type {\n",
       "        vertical-align: middle;\n",
       "    }\n",
       "\n",
       "    .dataframe tbody tr th {\n",
       "        vertical-align: top;\n",
       "    }\n",
       "\n",
       "    .dataframe thead th {\n",
       "        text-align: right;\n",
       "    }\n",
       "</style>\n",
       "<table border=\"1\" class=\"dataframe\">\n",
       "  <thead>\n",
       "    <tr style=\"text-align: right;\">\n",
       "      <th></th>\n",
       "      <th>Region</th>\n",
       "      <th>Year</th>\n",
       "      <th>Median Sale Price</th>\n",
       "      <th>Mortgage Interested Rate 30</th>\n",
       "    </tr>\n",
       "  </thead>\n",
       "  <tbody>\n",
       "    <tr>\n",
       "      <th>7</th>\n",
       "      <td>Minneapolis, MN</td>\n",
       "      <td>2023</td>\n",
       "      <td>340500</td>\n",
       "      <td>6.558438</td>\n",
       "    </tr>\n",
       "    <tr>\n",
       "      <th>8</th>\n",
       "      <td>St. Charles, MO</td>\n",
       "      <td>2022</td>\n",
       "      <td>304000</td>\n",
       "      <td>5.327500</td>\n",
       "    </tr>\n",
       "    <tr>\n",
       "      <th>9</th>\n",
       "      <td>St. Charles, MO</td>\n",
       "      <td>2023</td>\n",
       "      <td>328500</td>\n",
       "      <td>6.558438</td>\n",
       "    </tr>\n",
       "    <tr>\n",
       "      <th>10</th>\n",
       "      <td>St. Louis, MO</td>\n",
       "      <td>2022</td>\n",
       "      <td>205000</td>\n",
       "      <td>5.327500</td>\n",
       "    </tr>\n",
       "    <tr>\n",
       "      <th>11</th>\n",
       "      <td>St. Louis, MO</td>\n",
       "      <td>2023</td>\n",
       "      <td>225500</td>\n",
       "      <td>6.558438</td>\n",
       "    </tr>\n",
       "  </tbody>\n",
       "</table>\n",
       "</div>"
      ],
      "text/plain": [
       "             Region  Year  Median Sale Price  Mortgage Interested Rate 30\n",
       "7   Minneapolis, MN  2023             340500                     6.558438\n",
       "8   St. Charles, MO  2022             304000                     5.327500\n",
       "9   St. Charles, MO  2023             328500                     6.558438\n",
       "10    St. Louis, MO  2022             205000                     5.327500\n",
       "11    St. Louis, MO  2023             225500                     6.558438"
      ]
     },
     "execution_count": 43,
     "metadata": {},
     "output_type": "execute_result"
    }
   ],
   "source": [
    "# Filtering the dataset for the years 2022-2023\n",
    "filtered_df_2022_2023 = merged_df[merged_df['Year'].isin([2022,2023])]\n",
    "\n",
    "# Grouping by Region and Year to get the average median sale price and interest rate for each year\n",
    "SaleIR_grouped_df_2022_2023 = filtered_df_2022_2023.groupby(['Region', 'Year']).agg({\n",
    "    'Median Sale Price': 'median',\n",
    "    'Mortgage Interested Rate 30': 'mean'\n",
    "}).reset_index()\n",
    "\n",
    "SaleIR_grouped_df_2022_2023.tail()"
   ]
  },
  {
   "cell_type": "code",
   "execution_count": 44,
   "id": "60e92a2d",
   "metadata": {},
   "outputs": [
    {
     "data": {
      "image/png": "[encoded data removed]",
      "text/plain": [
       "<Figure size 1080x1080 with 6 Axes>"
      ]
     },
     "metadata": {
      "needs_background": "light"
     },
     "output_type": "display_data"
    }
   ],
   "source": [
    "# Dynamically determining the subplot dimensions\n",
    "n_regions = len(regions)\n",
    "n_cols = 2\n",
    "n_rows = int(n_regions / n_cols) + (n_regions % n_cols)\n",
    "\n",
    "# Plotting scatter plots for each region\n",
    "plt.figure(figsize=(15, 5 * n_rows))\n",
    "\n",
    "for idx, region in enumerate(regions, 1):\n",
    "    region_data = SaleIR_grouped_df_2018_2019[SaleIR_grouped_df_2018_2019['Region'] == region]\n",
    "    \n",
    "    # Creating a subplot for each region\n",
    "    plt.subplot(n_rows, n_cols, idx)\n",
    "    \n",
    "    plt.scatter(region_data['Mortgage Interested Rate 30'], region_data['Median Sale Price'], color='blue', label=region)\n",
    "    plt.title(f\"{region} - Sale Price vs Interest Rate 2018-2019\")\n",
    "    plt.xlabel(\"Average Mortgage Interest Rate (%)\")\n",
    "    plt.ylabel(\"Median Sale Price ($)\")\n",
    "    plt.grid(True)\n",
    "\n",
    "plt.tight_layout()\n",
    "plt.show()\n"
   ]
  },
  {
   "cell_type": "code",
   "execution_count": 45,
   "id": "1428cca7",
   "metadata": {},
   "outputs": [
    {
     "data": {
      "image/png": "[encoded data removed]",
      "text/plain": [
       "<Figure size 1080x1080 with 6 Axes>"
      ]
     },
     "metadata": {
      "needs_background": "light"
     },
     "output_type": "display_data"
    }
   ],
   "source": [
    "# Dynamically determining the subplot dimensions\n",
    "n_regions = len(regions)\n",
    "n_cols = 2\n",
    "n_rows = int(n_regions / n_cols) + (n_regions % n_cols)\n",
    "\n",
    "# Plotting scatter plots for each region\n",
    "plt.figure(figsize=(15, 5 * n_rows))\n",
    "\n",
    "for idx, region in enumerate(regions, 1):\n",
    "    region_data = SaleIR_grouped_df_2020_2021[SaleIR_grouped_df_2020_2021['Region'] == region]\n",
    "    \n",
    "    # Creating a subplot for each region\n",
    "    plt.subplot(n_rows, n_cols, idx)\n",
    "    \n",
    "    plt.scatter(region_data['Mortgage Interested Rate 30'], region_data['Median Sale Price'], color='blue', label=region)\n",
    "    plt.title(f\"{region} - Sale Price vs Interest Rate 2020-2021\")\n",
    "    plt.xlabel(\"Average Mortgage Interest Rate (%)\")\n",
    "    plt.ylabel(\"Median Sale Price ($)\")\n",
    "    plt.grid(True)\n",
    "\n",
    "plt.tight_layout()\n",
    "plt.show()"
   ]
  },
  {
   "cell_type": "code",
   "execution_count": 46,
   "id": "33191f62",
   "metadata": {},
   "outputs": [
    {
     "data": {
      "image/png": "[encoded data removed]",
      "text/plain": [
       "<Figure size 1080x1080 with 6 Axes>"
      ]
     },
     "metadata": {
      "needs_background": "light"
     },
     "output_type": "display_data"
    }
   ],
   "source": [
    "# Plotting scatter plots for each region\n",
    "plt.figure(figsize=(15, 5 * n_rows))\n",
    "\n",
    "for idx, region in enumerate(regions, 1):\n",
    "    region_data = SaleIR_grouped_df_2022_2023[SaleIR_grouped_df_2022_2023['Region'] == region]\n",
    "    \n",
    "    # Creating a subplot for each region\n",
    "    plt.subplot(n_rows, n_cols, idx)\n",
    "    \n",
    "    plt.scatter(region_data['Mortgage Interested Rate 30'], region_data['Median Sale Price'], color='blue', label=region)\n",
    "    plt.title(f\"{region} - Sale Price vs Interest Rate 2022-2023\")\n",
    "    plt.xlabel(\"Average Mortgage Interest Rate (%)\")\n",
    "    plt.ylabel(\"Median Sale Price ($)\")\n",
    "    plt.grid(True)\n",
    "\n",
    "plt.tight_layout()\n",
    "plt.show()"
   ]
  },
  {
   "cell_type": "markdown",
   "id": "93a3f8d1",
   "metadata": {},
   "source": [
    "#### the interest rate increases, the median sale price seems to decrease or vice versa from 2018 - 2021\n",
    "#### the interest rate increases, the median sale price seems to increase or decrease little bit from 2022 - 2023"
   ]
  },
  {
   "cell_type": "code",
   "execution_count": 47,
   "id": "06d5ddd3",
   "metadata": {},
   "outputs": [
    {
     "data": {
      "text/plain": [
       "{'Atlanta, GA': -0.9999999999999993,\n",
       " 'Marietta, GA': -0.9999999999999993,\n",
       " 'Minneapolis, MN': -0.9999999999999993,\n",
       " 'Lakeville, MN': -0.9999999999999993,\n",
       " 'St. Louis, MO': -0.9999999999999993,\n",
       " 'St. Charles, MO': -0.9999999999999992}"
      ]
     },
     "execution_count": 47,
     "metadata": {},
     "output_type": "execute_result"
    }
   ],
   "source": [
    "# Calculate the correlation for each region\n",
    "SaleIR_correlations_2018_2019 = {}\n",
    "\n",
    "for region in regions:\n",
    "    subset = SaleIR_grouped_df_2018_2019[SaleIR_grouped_df_2018_2019['Region'] == region]\n",
    "    SaleIR_correlation_2018_2019 = subset[['Median Sale Price', 'Mortgage Interested Rate 30']].corr().iloc[0, 1]\n",
    "    SaleIR_correlations_2018_2019[region] = SaleIR_correlation_2018_2019\n",
    "\n",
    "SaleIR_correlations_2018_2019"
   ]
  },
  {
   "cell_type": "code",
   "execution_count": 48,
   "id": "682421f1",
   "metadata": {},
   "outputs": [
    {
     "data": {
      "text/plain": [
       "{'Atlanta, GA': -1.0,\n",
       " 'Marietta, GA': -1.0,\n",
       " 'Minneapolis, MN': -1.0,\n",
       " 'Lakeville, MN': -1.0,\n",
       " 'St. Louis, MO': -1.0,\n",
       " 'St. Charles, MO': -1.0}"
      ]
     },
     "execution_count": 48,
     "metadata": {},
     "output_type": "execute_result"
    }
   ],
   "source": [
    "# Calculate the correlation for each region\n",
    "SaleIR_correlations_2020_2021 = {}\n",
    "\n",
    "for region in regions:\n",
    "    subset = SaleIR_grouped_df_2020_2021[SaleIR_grouped_df_2020_2021['Region'] == region]\n",
    "    SaleIR_correlation_2020_2021 = subset[['Median Sale Price', 'Mortgage Interested Rate 30']].corr().iloc[0, 1]\n",
    "    SaleIR_correlations_2020_2021[region] = SaleIR_correlation_2020_2021\n",
    "\n",
    "SaleIR_correlations_2020_2021"
   ]
  },
  {
   "cell_type": "code",
   "execution_count": 49,
   "id": "9d6e1d7c",
   "metadata": {},
   "outputs": [
    {
     "data": {
      "text/plain": [
       "{'Atlanta, GA': -1.0,\n",
       " 'Marietta, GA': 1.0,\n",
       " 'Minneapolis, MN': 1.0,\n",
       " 'Lakeville, MN': 1.0,\n",
       " 'St. Louis, MO': 1.0000000000000002,\n",
       " 'St. Charles, MO': 1.0}"
      ]
     },
     "execution_count": 49,
     "metadata": {},
     "output_type": "execute_result"
    }
   ],
   "source": [
    "# Calculate the correlation for each region\n",
    "SaleIR_correlations_2022_2023 = {}\n",
    "\n",
    "for region in regions:\n",
    "    subset = SaleIR_grouped_df_2022_2023[SaleIR_grouped_df_2022_2023['Region'] == region]\n",
    "    SaleIR_correlation_2022_2023 = subset[['Median Sale Price', 'Mortgage Interested Rate 30']].corr().iloc[0, 1]\n",
    "    SaleIR_correlations_2022_2023[region] = SaleIR_correlation_2022_2023\n",
    "\n",
    "SaleIR_correlations_2022_2023"
   ]
  },
  {
   "cell_type": "code",
   "execution_count": 53,
   "id": "0e3c7857",
   "metadata": {},
   "outputs": [
    {
     "data": {
      "text/plain": [
       "(-0.13795886418670442, 0.05902599130027538)"
      ]
     },
     "execution_count": 53,
     "metadata": {},
     "output_type": "execute_result"
    }
   ],
   "source": [
    "# Calculating the correlation between 'Median Sale Price' and 'Mortgage Interested Rate 30' for both time periods\n",
    "correlation_2018_2019 = SaleIR_grouped_df_2018_2019['Median Sale Price'].corr(SaleIR_grouped_df_2018_2019['Mortgage Interested Rate 30'])\n",
    "correlation_2022_2023 = SaleIR_grouped_df_2022_2023['Median Sale Price'].corr(SaleIR_grouped_df_2022_2023['Mortgage Interested Rate 30'])\n",
    "\n",
    "correlation_2018_2019, correlation_2022_2023"
   ]
  },
  {
   "cell_type": "code",
   "execution_count": 55,
   "id": "6eb2e456",
   "metadata": {},
   "outputs": [
    {
     "data": {
      "image/png": "[encoded data removed]",
      "text/plain": [
       "<Figure size 720x432 with 2 Axes>"
      ]
     },
     "metadata": {
      "needs_background": "light"
     },
     "output_type": "display_data"
    }
   ],
   "source": [
    "# Importing necessary libraries for plotting\n",
    "import matplotlib.pyplot as plt\n",
    "import seaborn as sns\n",
    "\n",
    "# Creating a dataframe from the provided data\n",
    "correlation_df = pd.DataFrame({\n",
    "    '2018_2019': SaleIR_correlations_2018_2019,\n",
    "    '2020_2021': SaleIR_correlations_2020_2021,\n",
    "    '2022-2023': SaleIR_correlations_2022_2023\n",
    "})\n",
    "# Plotting the heatmap for the correlation data\n",
    "plt.figure(figsize=(10, 6))\n",
    "sns.heatmap(correlation_df, annot=True, cmap='coolwarm', center=0, linewidths=0.5, linecolor='black', cbar_kws={'label': 'Correlation Coefficient'})\n",
    "plt.title('Correlation between Median Sale Price and Interest Rate', fontsize=16)\n",
    "plt.show()"
   ]
  },
  {
   "cell_type": "markdown",
   "id": "1bdc5ae5",
   "metadata": {},
   "source": [
    "# Relationship between Home Price vs Home Inventory"
   ]
  },
  {
   "cell_type": "code",
   "execution_count": null,
   "id": "a1843678",
   "metadata": {},
   "outputs": [],
   "source": [
    "# Grouping by Region and Year to get the average median sale price and interest rate for each year\n",
    "grouped_df_2018_2019 = filtered_df_2018_2019.groupby(['Region', 'Year']).agg({\n",
    "    'Median Sale Price': 'median',\n",
    "    'Inventory': 'mean'\n",
    "}).reset_index()\n",
    "\n",
    "grouped_df_2018_2019.head()"
   ]
  },
  {
   "cell_type": "code",
   "execution_count": null,
   "id": "27b10fb1",
   "metadata": {},
   "outputs": [],
   "source": [
    "# Grouping by Region and Year to get the average median sale price and interest rate for each year\n",
    "grouped_df_2020_2021 = filtered_df_2020_2021.groupby(['Region', 'Year']).agg({\n",
    "    'Median Sale Price': 'median',\n",
    "    'Inventory': 'mean'\n",
    "}).reset_index()\n",
    "\n",
    "grouped_df_2020_2021.head()"
   ]
  },
  {
   "cell_type": "code",
   "execution_count": null,
   "id": "f396e407",
   "metadata": {},
   "outputs": [],
   "source": [
    "# Grouping by Region and Year to get the average median sale price and interest rate for each year\n",
    "grouped_df_2022_2023 = filtered_df_2022_2023.groupby(['Region', 'Year']).agg({\n",
    "    'Median Sale Price': 'median',\n",
    "    'Inventory': 'mean'\n",
    "}).reset_index()\n",
    "\n",
    "grouped_df_2022_2023.head()"
   ]
  },
  {
   "cell_type": "code",
   "execution_count": null,
   "id": "2aff93a8",
   "metadata": {},
   "outputs": [],
   "source": [
    "# Dynamically determining the subplot dimensions\n",
    "n_regions = len(regions)\n",
    "n_cols = 2\n",
    "n_rows = int(n_regions / n_cols) + (n_regions % n_cols)\n",
    "\n",
    "# Plotting scatter plots for each region\n",
    "plt.figure(figsize=(15, 5 * n_rows))\n",
    "\n",
    "for idx, region in enumerate(regions, 1):\n",
    "    region_data = grouped_df_2018_2019[grouped_df_2018_2019['Region'] == region]\n",
    "    \n",
    "    # Creating a subplot for each region\n",
    "    plt.subplot(n_rows, n_cols, idx)\n",
    "    \n",
    "    plt.scatter(region_data['Inventory'], region_data['Median Sale Price'], color='blue', label=region)\n",
    "    plt.title(f\"{region} - Sale Price vs Inventory 2018-2019\")\n",
    "    plt.xlabel(\"Average Inventory\")\n",
    "    plt.ylabel(\"Median Sale Price ($)\")\n",
    "    plt.grid(True)\n",
    "\n",
    "plt.tight_layout()\n",
    "plt.show()"
   ]
  },
  {
   "cell_type": "code",
   "execution_count": null,
   "id": "777ff79a",
   "metadata": {},
   "outputs": [],
   "source": [
    "# Plotting scatter plots for each region\n",
    "plt.figure(figsize=(15, 5 * n_rows))\n",
    "\n",
    "for idx, region in enumerate(regions, 1):\n",
    "    region_data = grouped_df_2020_2021[grouped_df_2020_2021['Region'] == region]\n",
    "    \n",
    "    # Creating a subplot for each region\n",
    "    plt.subplot(n_rows, n_cols, idx)\n",
    "    \n",
    "    plt.scatter(region_data['Inventory'], region_data['Median Sale Price'], color='blue', label=region)\n",
    "    plt.title(f\"{region} - Sale Price vs Home Inventory 2020-2021\")\n",
    "    plt.xlabel(\"Average Inventory\")\n",
    "    plt.ylabel(\"Median Sale Price ($)\")\n",
    "    plt.grid(True)\n",
    "\n",
    "plt.tight_layout()\n",
    "plt.show()"
   ]
  },
  {
   "cell_type": "code",
   "execution_count": null,
   "id": "9fdb2214",
   "metadata": {},
   "outputs": [],
   "source": [
    "# Plotting scatter plots for each region\n",
    "plt.figure(figsize=(15, 5 * n_rows))\n",
    "\n",
    "for idx, region in enumerate(regions, 1):\n",
    "    region_data = grouped_df_2022_2023[grouped_df_2022_2023['Region'] == region]\n",
    "    \n",
    "    # Creating a subplot for each region\n",
    "    plt.subplot(n_rows, n_cols, idx)\n",
    "    \n",
    "    plt.scatter(region_data['Inventory'], region_data['Median Sale Price'], color='blue', label=region)\n",
    "    plt.title(f\"{region} - Sale Price vs Home Inventory 2022-2023\")\n",
    "    plt.xlabel(\"Average Inventory\")\n",
    "    plt.ylabel(\"Median Sale Price ($)\")\n",
    "    plt.grid(True)\n",
    "\n",
    "plt.tight_layout()\n",
    "plt.show()"
   ]
  },
  {
   "cell_type": "code",
   "execution_count": null,
   "id": "2da6da26",
   "metadata": {},
   "outputs": [],
   "source": [
    "# Calculate the correlation for each region\n",
    "correlations_2018_2019 = {}\n",
    "\n",
    "for region in regions:\n",
    "    subset = grouped_df_2018_2019[grouped_df_2018_2019['Region'] == region]\n",
    "    correlation_2018_2019 = subset[['Median Sale Price', 'Inventory']].corr().iloc[0, 1]\n",
    "    correlations_2018_2019[region] = correlation_2018_2019\n",
    "\n",
    "correlations_2018_2019"
   ]
  },
  {
   "cell_type": "code",
   "execution_count": null,
   "id": "95ddb5e8",
   "metadata": {},
   "outputs": [],
   "source": [
    "# Calculate the correlation for each region\n",
    "correlations_2020_2021 = {}\n",
    "\n",
    "for region in regions:\n",
    "    subset = grouped_df_2020_2021[grouped_df_2020_2021['Region'] == region]\n",
    "    correlation_2020_2021 = subset[['Median Sale Price', 'Inventory']].corr().iloc[0, 1]\n",
    "    correlations_2020_2021[region] = correlation_2020_2021\n",
    "\n",
    "correlations_2020_2021"
   ]
  },
  {
   "cell_type": "code",
   "execution_count": null,
   "id": "b169795a",
   "metadata": {},
   "outputs": [],
   "source": [
    "# Calculate the correlation for each region\n",
    "correlations_2022_2023 = {}\n",
    "\n",
    "for region in regions:\n",
    "    subset = grouped_df_2022_2023 [grouped_df_2022_2023 ['Region'] == region]\n",
    "    correlation_2022_2023  = subset[['Median Sale Price', 'Inventory']].corr().iloc[0, 1]\n",
    "    correlations_2022_2023 [region] = correlation_2022_2023 \n",
    "\n",
    "correlations_2022_2023 "
   ]
  },
  {
   "cell_type": "code",
   "execution_count": null,
   "id": "07b96bcc",
   "metadata": {},
   "outputs": [],
   "source": [
    "# Creating a dataframe from the provided data\n",
    "correlation_df = pd.DataFrame({\n",
    "    '2018-2019': correlations_2018_2019,\n",
    "    '2020-2021': correlations_2020_2021,\n",
    "    '2022-2023': correlations_2022_2023\n",
    "})\n",
    "# Plotting the heatmap for the correlation data\n",
    "plt.figure(figsize=(10, 6))\n",
    "sns.heatmap(correlation_df, annot=True, cmap='coolwarm', center=0, linewidths=0.5, linecolor='black', cbar_kws={'label': 'Correlation Coefficient'})\n",
    "plt.title('Correlation between Median Sale Price and Inventory', fontsize=16)\n",
    "plt.show()"
   ]
  },
  {
   "cell_type": "markdown",
   "id": "e60d2104",
   "metadata": {},
   "source": [
    "# Inflation data\n"
   ]
  },
  {
   "cell_type": "code",
   "execution_count": null,
   "id": "7bbba210",
   "metadata": {},
   "outputs": [],
   "source": [
    "inflation = pd.read_csv('inflation.csv')"
   ]
  },
  {
   "cell_type": "code",
   "execution_count": null,
   "id": "5aa51483",
   "metadata": {},
   "outputs": [],
   "source": [
    "inflation.head()"
   ]
  },
  {
   "cell_type": "code",
   "execution_count": null,
   "id": "3acf5fa3",
   "metadata": {},
   "outputs": [],
   "source": [
    "missing_data = inflation.isnull()"
   ]
  },
  {
   "cell_type": "code",
   "execution_count": null,
   "id": "9e6d7b89",
   "metadata": {},
   "outputs": [],
   "source": [
    "missing_data"
   ]
  },
  {
   "cell_type": "code",
   "execution_count": null,
   "id": "9b25fe0e",
   "metadata": {},
   "outputs": [],
   "source": [
    "inflation['DATE'] = pd.to_datetime(inflation[\"DATE\"])"
   ]
  },
  {
   "cell_type": "code",
   "execution_count": null,
   "id": "ebc972b0",
   "metadata": {},
   "outputs": [],
   "source": [
    "inflation.head()"
   ]
  },
  {
   "cell_type": "code",
   "execution_count": null,
   "id": "76a0aa05",
   "metadata": {},
   "outputs": [],
   "source": [
    "#Rename the FPCPITOTLZGUSA columns to Inflation\n",
    "inflation.rename(columns = {'FPCPITOTLZGUSA':'Inflation in USA'}, inplace = True)"
   ]
  },
  {
   "cell_type": "code",
   "execution_count": null,
   "id": "036ad40b",
   "metadata": {},
   "outputs": [],
   "source": [
    "inflation.head()"
   ]
  },
  {
   "cell_type": "code",
   "execution_count": null,
   "id": "8d1112c5",
   "metadata": {},
   "outputs": [],
   "source": [
    "# Convert 'DATE' in interest_rate_df to the same format as 'Month of Period End' in data_df\n",
    "inflation['DATE'] = inflation['DATE'].dt.strftime('%-m/%Y')\n"
   ]
  },
  {
   "cell_type": "code",
   "execution_count": null,
   "id": "53f2e49c",
   "metadata": {},
   "outputs": [],
   "source": []
  }
 ],
 "metadata": {
  "kernelspec": {
   "display_name": "Python 3",
   "language": "python",
   "name": "python3"
  },
  "language_info": {
   "codemirror_mode": {
    "name": "ipython",
    "version": 3
   },
   "file_extension": ".py",
   "mimetype": "text/x-python",
   "name": "python",
   "nbconvert_exporter": "python",
   "pygments_lexer": "ipython3",
   "version": "3.8.8"
  }
 },
 "nbformat": 4,
 "nbformat_minor": 5
}
