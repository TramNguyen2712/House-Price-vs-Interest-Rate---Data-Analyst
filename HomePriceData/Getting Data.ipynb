{
 "cells": [
  {
   "cell_type": "code",
   "execution_count": 1,
   "id": "e9f81a6f",
   "metadata": {},
   "outputs": [],
   "source": [
    "import csv\n",
    "import requests\n",
    "import json\n",
    "import pandas as pd"
   ]
  },
  {
   "cell_type": "markdown",
   "id": "ab51d2c5",
   "metadata": {},
   "source": [
    "# House Price\n"
   ]
  },
  {
   "cell_type": "code",
   "execution_count": 38,
   "id": "beafc8c2",
   "metadata": {},
   "outputs": [
    {
     "name": "stdout",
     "output_type": "stream",
     "text": [
      "{'priceHistory': [{'priceChangeRate': 0, 'date': '2023-08-22', 'source': 'Zillow Rentals', 'postingIsRental': True, 'time': 1692662400000, 'sellerAgent': None, 'showCountyLink': False, 'attributeSource': {'infoString2': 'Zillow Rentals', 'infoString3': None, 'infoString1': None}, 'pricePerSquareFoot': None, 'buyerAgent': None, 'event': 'Listing removed', 'price': None}, {'priceChangeRate': -0.042, 'date': '2023-08-18', 'source': 'Zillow Rentals', 'postingIsRental': True, 'time': 1692316800000, 'sellerAgent': None, 'showCountyLink': False, 'attributeSource': {'infoString2': 'Zillow Rentals', 'infoString3': None, 'infoString1': None}, 'pricePerSquareFoot': 4, 'buyerAgent': None, 'event': 'Price change', 'price': 2395}, {'priceChangeRate': 0, 'date': '2023-07-29', 'source': 'Zillow Rentals', 'postingIsRental': True, 'time': 1690588800000, 'sellerAgent': None, 'showCountyLink': False, 'attributeSource': {'infoString2': 'Zillow Rentals', 'infoString3': None, 'infoString1': None}, 'pricePerSquareFoot': 4, 'buyerAgent': None, 'event': 'Listed for rent', 'price': 2500}, {'priceChangeRate': -0.021134593993326, 'date': '2023-07-27', 'source': 'NWMLS', 'postingIsRental': False, 'time': 1690416000000, 'sellerAgent': {'name': 'Ranny Ray', 'photo': {'url': 'https://photos.zillowstatic.com/h_e/IS7uuhbv47jlxy0000000000.jpg'}, 'profileUrl': '/profile/rannyray/'}, 'showCountyLink': False, 'attributeSource': {'infoString2': 'NWMLS', 'infoString3': 'https://photos.zillowstatic.com/fp/033de87a0051f29108423257c615e0b5-zillow_web_logo_inf_11.jpg', 'infoString1': '2032278'}, 'pricePerSquareFoot': 647, 'buyerAgent': {'name': 'James Campbell', 'photo': {'url': 'https://photos.zillowstatic.com/h_e/ISjn5z6ss0pvxs0000000000.jpg'}, 'profileUrl': '/profile/JamesCTheAgencySEA/'}, 'event': 'Sold', 'price': 440000}, {'priceChangeRate': 0, 'date': '2023-06-28', 'source': 'NWMLS', 'postingIsRental': False, 'time': 1687910400000, 'sellerAgent': None, 'showCountyLink': False, 'attributeSource': {'infoString2': 'NWMLS', 'infoString3': 'https://photos.zillowstatic.com/fp/033de87a0051f29108423257c615e0b5-zillow_web_logo_inf_11.jpg', 'infoString1': 'NWM2032278'}, 'pricePerSquareFoot': 661, 'buyerAgent': None, 'event': 'Pending sale', 'price': 449500}, {'priceChangeRate': -0.1009100910091, 'date': '2023-06-16', 'source': 'NWMLS', 'postingIsRental': False, 'time': 1686873600000, 'sellerAgent': None, 'showCountyLink': False, 'attributeSource': {'infoString2': 'NWMLS', 'infoString3': 'https://photos.zillowstatic.com/fp/033de87a0051f29108423257c615e0b5-zillow_web_logo_inf_11.jpg', 'infoString1': 'NWM2032278'}, 'pricePerSquareFoot': 661, 'buyerAgent': None, 'event': 'Price change', 'price': 449500}, {'priceChangeRate': -0.089344262295082, 'date': '2023-04-26', 'source': 'NWMLS', 'postingIsRental': False, 'time': 1682467200000, 'sellerAgent': None, 'showCountyLink': False, 'attributeSource': {'infoString2': 'NWMLS', 'infoString3': 'https://photos.zillowstatic.com/fp/033de87a0051f29108423257c615e0b5-zillow_web_logo_inf_11.jpg', 'infoString1': 'NWM2032278'}, 'pricePerSquareFoot': 735, 'buyerAgent': None, 'event': 'Price change', 'price': 499950}, {'priceChangeRate': 0.56857142857143, 'date': '2023-03-04', 'source': 'NWMLS', 'postingIsRental': False, 'time': 1677888000000, 'sellerAgent': None, 'showCountyLink': False, 'attributeSource': {'infoString2': 'NWMLS', 'infoString3': 'https://photos.zillowstatic.com/fp/033de87a0051f29108423257c615e0b5-zillow_web_logo_inf_11.jpg', 'infoString1': 'NWM2032278'}, 'pricePerSquareFoot': 807, 'buyerAgent': None, 'event': 'Listed for sale', 'price': 549000}, {'priceChangeRate': -0.090909090909091, 'date': '2022-04-19', 'source': 'NWMLS', 'postingIsRental': False, 'time': 1650326400000, 'sellerAgent': {'name': 'Bob Moffatt', 'photo': {'url': 'https://photos.zillowstatic.com/h_e/IS2jvne8pga5r61000000000.jpg'}, 'profileUrl': '/profile/bobmoffatt/'}, 'showCountyLink': False, 'attributeSource': {'infoString2': 'NWMLS', 'infoString3': 'https://photos.zillowstatic.com/fp/033de87a0051f29108423257c615e0b5-zillow_web_logo_inf_11.jpg', 'infoString1': '1848402'}, 'pricePerSquareFoot': 515, 'buyerAgent': {'name': 'Ranny Ray', 'photo': {'url': 'https://photos.zillowstatic.com/h_e/IS7uuhbv47jlxy0000000000.jpg'}, 'profileUrl': '/profile/rannyray/'}, 'event': 'Sold', 'price': 350000}, {'priceChangeRate': 0, 'date': '2022-04-08', 'source': 'NWMLS', 'postingIsRental': False, 'time': 1649376000000, 'sellerAgent': None, 'showCountyLink': False, 'attributeSource': {'infoString2': 'NWMLS', 'infoString3': 'https://photos.zillowstatic.com/fp/033de87a0051f29108423257c615e0b5-zillow_web_logo_inf_11.jpg', 'infoString1': '1848402'}, 'pricePerSquareFoot': 566, 'buyerAgent': None, 'event': 'Pending sale', 'price': 385000}, {'priceChangeRate': -0.060975609756098, 'date': '2021-12-05', 'source': 'RE/MAX International', 'postingIsRental': False, 'time': 1638662400000, 'sellerAgent': None, 'showCountyLink': False, 'attributeSource': {'infoString2': 'RE/MAX International', 'infoString3': 'https://photos.zillowstatic.com/fp/cd5a1d62fa18a5e74fcc3dc6aed90a23-zillow_web_logo_inf_11.jpg', 'infoString1': '1848402'}, 'pricePerSquareFoot': 566, 'buyerAgent': None, 'event': 'Price change', 'price': 385000}, {'priceChangeRate': 4.4666666666667, 'date': '2021-10-07', 'source': 'RE/MAX International', 'postingIsRental': False, 'time': 1633564800000, 'sellerAgent': None, 'showCountyLink': False, 'attributeSource': {'infoString2': 'RE/MAX International', 'infoString3': 'https://photos.zillowstatic.com/fp/cd5a1d62fa18a5e74fcc3dc6aed90a23-zillow_web_logo_inf_11.jpg', 'infoString1': '1848402'}, 'pricePerSquareFoot': 603, 'buyerAgent': None, 'event': 'Listed for sale', 'price': 410000}, {'priceChangeRate': 0, 'date': '1992-09-30', 'source': 'Agent Provided', 'postingIsRental': False, 'time': 717811200000, 'sellerAgent': None, 'showCountyLink': False, 'attributeSource': {'infoString2': None, 'infoString3': None, 'infoString1': None}, 'pricePerSquareFoot': 110, 'buyerAgent': None, 'event': 'Sold', 'price': 75000}], 'taxHistory': [{'time': 1663164965605, 'valueIncreaseRate': 1.8422738, 'taxIncreaseRate': 7.2145805, 'taxPaid': 2988.3, 'value': 355000}, {'time': 1631628965605, 'valueIncreaseRate': 0, 'taxIncreaseRate': -0.020279547, 'taxPaid': 363.78, 'value': 124900}, {'time': 1600092965605, 'valueIncreaseRate': 0, 'taxIncreaseRate': 0.026001668, 'taxPaid': 371.31, 'value': 124900}, {'time': 1568470565605, 'valueIncreaseRate': 0, 'taxIncreaseRate': -0.28261346, 'taxPaid': 361.9, 'value': 124900}, {'time': 1536934565605, 'valueIncreaseRate': -0.6180428, 'taxIncreaseRate': -0.085657805, 'taxPaid': 504.47, 'value': 124900}, {'time': 1505398565605, 'valueIncreaseRate': 0.012383901, 'taxIncreaseRate': -0.38659182, 'taxPaid': 551.73, 'value': 327000}, {'time': 1473862565605, 'valueIncreaseRate': 0.13732395, 'taxIncreaseRate': 0, 'taxPaid': 899.45, 'value': 323000}, {'time': 1442240165605, 'valueIncreaseRate': 0.13147411, 'taxIncreaseRate': 0, 'taxPaid': 899.45, 'value': 284000}, {'time': 1410704165605, 'valueIncreaseRate': 0.30051813, 'taxIncreaseRate': 0, 'taxPaid': 899.45, 'value': 251000}, {'time': 1379168165605, 'valueIncreaseRate': 0.13529412, 'taxIncreaseRate': 0, 'taxPaid': 899.45, 'value': 193000}, {'time': 1347632165605, 'valueIncreaseRate': 0.36108887, 'taxIncreaseRate': 0, 'taxPaid': None, 'value': 170000}, {'time': 1316009765605, 'valueIncreaseRate': 0, 'taxIncreaseRate': 0, 'taxPaid': None, 'value': 124900}, {'time': 1284473765605, 'valueIncreaseRate': 0, 'taxIncreaseRate': 0, 'taxPaid': None, 'value': 124900}, {'time': 1252937765605, 'valueIncreaseRate': 0, 'taxIncreaseRate': 0, 'taxPaid': None, 'value': 124900}, {'time': 1189779365605, 'valueIncreaseRate': 0, 'taxIncreaseRate': 0, 'taxPaid': None, 'value': 124900}, {'time': 1158243365605, 'valueIncreaseRate': 0, 'taxIncreaseRate': 0, 'taxPaid': None, 'value': 124900}, {'time': 1126707365605, 'valueIncreaseRate': 0, 'taxIncreaseRate': 0, 'taxPaid': None, 'value': 124900}, {'time': 1000476965605, 'valueIncreaseRate': 0.28102565, 'taxIncreaseRate': 0.20592968, 'taxPaid': 1452.88, 'value': 124900}, {'time': 968940965605, 'valueIncreaseRate': 0, 'taxIncreaseRate': 0, 'taxPaid': 1204.78, 'value': 97500}]}\n"
     ]
    }
   ],
   "source": [
    "priceTax_url = \"https://zillow-com1.p.rapidapi.com/priceAndTaxHistory\"\n",
    "\n",
    "priceTax_querystring = {\"zpid\":\"49000475\"}\n",
    "\n",
    "headers = {\n",
    "\"X-RapidAPI-Key\": \"261d8f9093msh9825615f8a550d4p1f4949jsnfd19cb6c86d2\",\n",
    "\"X-RapidAPI-Host\": \"zillow-com1.p.rapidapi.com\"\n",
    "}\n",
    "\n",
    "response = requests.get(priceTax_url, headers=headers, params=priceTax_querystring)\n",
    "\n",
    "priceTaxHist = response.json()\n",
    "\n",
    "print(priceTaxHist)\n"
   ]
  },
  {
   "cell_type": "code",
   "execution_count": 39,
   "id": "320aaaab",
   "metadata": {},
   "outputs": [],
   "source": [
    "file_path = \"price-tax.json\"\n",
    "\n",
    "with open(file_path,'w') as json_file:\n",
    "    json.dump(priceTaxHist,json_file)\n",
    "\n",
    "    "
   ]
  },
  {
   "cell_type": "code",
   "execution_count": 41,
   "id": "db5bbc32",
   "metadata": {},
   "outputs": [
    {
     "name": "stdout",
     "output_type": "stream",
     "text": [
      "    priceChangeRate        date                source  postingIsRental  \\\n",
      "0          0.000000  2023-08-22        Zillow Rentals             True   \n",
      "1         -0.042000  2023-08-18        Zillow Rentals             True   \n",
      "2          0.000000  2023-07-29        Zillow Rentals             True   \n",
      "3         -0.021135  2023-07-27                 NWMLS            False   \n",
      "4          0.000000  2023-06-28                 NWMLS            False   \n",
      "5         -0.100910  2023-06-16                 NWMLS            False   \n",
      "6         -0.089344  2023-04-26                 NWMLS            False   \n",
      "7          0.568571  2023-03-04                 NWMLS            False   \n",
      "8         -0.090909  2022-04-19                 NWMLS            False   \n",
      "9          0.000000  2022-04-08                 NWMLS            False   \n",
      "10        -0.060976  2021-12-05  RE/MAX International            False   \n",
      "11         4.466667  2021-10-07  RE/MAX International            False   \n",
      "12         0.000000  1992-09-30        Agent Provided            False   \n",
      "\n",
      "             time  sellerAgent  showCountyLink  pricePerSquareFoot  \\\n",
      "0   1692662400000          NaN           False                 NaN   \n",
      "1   1692316800000          NaN           False                 4.0   \n",
      "2   1690588800000          NaN           False                 4.0   \n",
      "3   1690416000000          NaN           False               647.0   \n",
      "4   1687910400000          NaN           False               661.0   \n",
      "5   1686873600000          NaN           False               661.0   \n",
      "6   1682467200000          NaN           False               735.0   \n",
      "7   1677888000000          NaN           False               807.0   \n",
      "8   1650326400000          NaN           False               515.0   \n",
      "9   1649376000000          NaN           False               566.0   \n",
      "10  1638662400000          NaN           False               566.0   \n",
      "11  1633564800000          NaN           False               603.0   \n",
      "12   717811200000          NaN           False               110.0   \n",
      "\n",
      "    buyerAgent            event     price attributeSource.infoString2  \\\n",
      "0          NaN  Listing removed       NaN              Zillow Rentals   \n",
      "1          NaN     Price change    2395.0              Zillow Rentals   \n",
      "2          NaN  Listed for rent    2500.0              Zillow Rentals   \n",
      "3          NaN             Sold  440000.0                       NWMLS   \n",
      "4          NaN     Pending sale  449500.0                       NWMLS   \n",
      "5          NaN     Price change  449500.0                       NWMLS   \n",
      "6          NaN     Price change  499950.0                       NWMLS   \n",
      "7          NaN  Listed for sale  549000.0                       NWMLS   \n",
      "8          NaN             Sold  350000.0                       NWMLS   \n",
      "9          NaN     Pending sale  385000.0                       NWMLS   \n",
      "10         NaN     Price change  385000.0        RE/MAX International   \n",
      "11         NaN  Listed for sale  410000.0        RE/MAX International   \n",
      "12         NaN             Sold   75000.0                        None   \n",
      "\n",
      "                          attributeSource.infoString3  \\\n",
      "0                                                None   \n",
      "1                                                None   \n",
      "2                                                None   \n",
      "3   https://photos.zillowstatic.com/fp/033de87a005...   \n",
      "4   https://photos.zillowstatic.com/fp/033de87a005...   \n",
      "5   https://photos.zillowstatic.com/fp/033de87a005...   \n",
      "6   https://photos.zillowstatic.com/fp/033de87a005...   \n",
      "7   https://photos.zillowstatic.com/fp/033de87a005...   \n",
      "8   https://photos.zillowstatic.com/fp/033de87a005...   \n",
      "9   https://photos.zillowstatic.com/fp/033de87a005...   \n",
      "10  https://photos.zillowstatic.com/fp/cd5a1d62fa1...   \n",
      "11  https://photos.zillowstatic.com/fp/cd5a1d62fa1...   \n",
      "12                                               None   \n",
      "\n",
      "   attributeSource.infoString1 sellerAgent.name  \\\n",
      "0                         None              NaN   \n",
      "1                         None              NaN   \n",
      "2                         None              NaN   \n",
      "3                      2032278        Ranny Ray   \n",
      "4                   NWM2032278              NaN   \n",
      "5                   NWM2032278              NaN   \n",
      "6                   NWM2032278              NaN   \n",
      "7                   NWM2032278              NaN   \n",
      "8                      1848402      Bob Moffatt   \n",
      "9                      1848402              NaN   \n",
      "10                     1848402              NaN   \n",
      "11                     1848402              NaN   \n",
      "12                        None              NaN   \n",
      "\n",
      "                                sellerAgent.photo.url sellerAgent.profileUrl  \\\n",
      "0                                                 NaN                    NaN   \n",
      "1                                                 NaN                    NaN   \n",
      "2                                                 NaN                    NaN   \n",
      "3   https://photos.zillowstatic.com/h_e/IS7uuhbv47...     /profile/rannyray/   \n",
      "4                                                 NaN                    NaN   \n",
      "5                                                 NaN                    NaN   \n",
      "6                                                 NaN                    NaN   \n",
      "7                                                 NaN                    NaN   \n",
      "8   https://photos.zillowstatic.com/h_e/IS2jvne8pg...   /profile/bobmoffatt/   \n",
      "9                                                 NaN                    NaN   \n",
      "10                                                NaN                    NaN   \n",
      "11                                                NaN                    NaN   \n",
      "12                                                NaN                    NaN   \n",
      "\n",
      "   buyerAgent.name                               buyerAgent.photo.url  \\\n",
      "0              NaN                                                NaN   \n",
      "1              NaN                                                NaN   \n",
      "2              NaN                                                NaN   \n",
      "3   James Campbell  https://photos.zillowstatic.com/h_e/ISjn5z6ss0...   \n",
      "4              NaN                                                NaN   \n",
      "5              NaN                                                NaN   \n",
      "6              NaN                                                NaN   \n",
      "7              NaN                                                NaN   \n",
      "8        Ranny Ray  https://photos.zillowstatic.com/h_e/IS7uuhbv47...   \n",
      "9              NaN                                                NaN   \n",
      "10             NaN                                                NaN   \n",
      "11             NaN                                                NaN   \n",
      "12             NaN                                                NaN   \n",
      "\n",
      "           buyerAgent.profileUrl  \n",
      "0                            NaN  \n",
      "1                            NaN  \n",
      "2                            NaN  \n",
      "3   /profile/JamesCTheAgencySEA/  \n",
      "4                            NaN  \n",
      "5                            NaN  \n",
      "6                            NaN  \n",
      "7                            NaN  \n",
      "8             /profile/rannyray/  \n",
      "9                            NaN  \n",
      "10                           NaN  \n",
      "11                           NaN  \n",
      "12                           NaN  \n"
     ]
    }
   ],
   "source": [
    "json_string = json.dumps(priceTaxHist)\n",
    "df = pd.json_normalize(json.loads(json_string), \"priceHistory\")\n",
    "print(df)"
   ]
  },
  {
   "cell_type": "code",
   "execution_count": 44,
   "id": "41f0315c",
   "metadata": {},
   "outputs": [],
   "source": [
    "df.to_csv('pricehistory.csv',index=False)"
   ]
  },
  {
   "cell_type": "code",
   "execution_count": 45,
   "id": "40a1ba29",
   "metadata": {},
   "outputs": [
    {
     "name": "stdout",
     "output_type": "stream",
     "text": [
      "             time  valueIncreaseRate  taxIncreaseRate  taxPaid   value\n",
      "0   1663164965605           1.842274         7.214581  2988.30  355000\n",
      "1   1631628965605           0.000000        -0.020280   363.78  124900\n",
      "2   1600092965605           0.000000         0.026002   371.31  124900\n",
      "3   1568470565605           0.000000        -0.282613   361.90  124900\n",
      "4   1536934565605          -0.618043        -0.085658   504.47  124900\n",
      "5   1505398565605           0.012384        -0.386592   551.73  327000\n",
      "6   1473862565605           0.137324         0.000000   899.45  323000\n",
      "7   1442240165605           0.131474         0.000000   899.45  284000\n",
      "8   1410704165605           0.300518         0.000000   899.45  251000\n",
      "9   1379168165605           0.135294         0.000000   899.45  193000\n",
      "10  1347632165605           0.361089         0.000000      NaN  170000\n",
      "11  1316009765605           0.000000         0.000000      NaN  124900\n",
      "12  1284473765605           0.000000         0.000000      NaN  124900\n",
      "13  1252937765605           0.000000         0.000000      NaN  124900\n",
      "14  1189779365605           0.000000         0.000000      NaN  124900\n",
      "15  1158243365605           0.000000         0.000000      NaN  124900\n",
      "16  1126707365605           0.000000         0.000000      NaN  124900\n",
      "17  1000476965605           0.281026         0.205930  1452.88  124900\n",
      "18   968940965605           0.000000         0.000000  1204.78   97500\n"
     ]
    }
   ],
   "source": [
    "df2 = pd.json_normalize(json.loads(json_string), \"taxHistory\")\n",
    "print(df2)"
   ]
  },
  {
   "cell_type": "code",
   "execution_count": 46,
   "id": "42407857",
   "metadata": {},
   "outputs": [],
   "source": [
    "df2.to_csv('taxhistory.csv',index=False)"
   ]
  },
  {
   "cell_type": "code",
   "execution_count": 10,
   "id": "dc2e21d3",
   "metadata": {},
   "outputs": [
    {
     "name": "stdout",
     "output_type": "stream",
     "text": [
      "{'message': \"Endpoint '/property' does not exist\"}\n"
     ]
    }
   ],
   "source": [
    "property_url = \"https://zillow-com1.p.rapidapi.com/property\"\n",
    "\n",
    "property_querystring = {\"zpid\":\"2080998890\"}\n",
    "\n",
    "response = requests.get(property_url, headers=headers, params=property_querystring)\n",
    "\n",
    "property = response.json()\n",
    "\n",
    "print(property)"
   ]
  },
  {
   "cell_type": "code",
   "execution_count": 18,
   "id": "ad11e62f",
   "metadata": {},
   "outputs": [
    {
     "ename": "TypeError",
     "evalue": "Object of type type is not JSON serializable",
     "output_type": "error",
     "traceback": [
      "\u001b[1;31m---------------------------------------------------------------------------\u001b[0m",
      "\u001b[1;31mTypeError\u001b[0m                                 Traceback (most recent call last)",
      "\u001b[1;32m<ipython-input-18-9806fc0ec5b9>\u001b[0m in \u001b[0;36m<module>\u001b[1;34m\u001b[0m\n\u001b[1;32m----> 1\u001b[1;33m \u001b[0mjson_string\u001b[0m \u001b[1;33m=\u001b[0m \u001b[0mjson\u001b[0m\u001b[1;33m.\u001b[0m\u001b[0mdumps\u001b[0m\u001b[1;33m(\u001b[0m\u001b[0mproperty\u001b[0m\u001b[1;33m)\u001b[0m\u001b[1;33m\u001b[0m\u001b[1;33m\u001b[0m\u001b[0m\n\u001b[0m\u001b[0;32m      2\u001b[0m \u001b[0mdf3\u001b[0m \u001b[1;33m=\u001b[0m \u001b[0mpd\u001b[0m\u001b[1;33m.\u001b[0m\u001b[0mjson_normalize\u001b[0m\u001b[1;33m(\u001b[0m\u001b[0mjson\u001b[0m\u001b[1;33m.\u001b[0m\u001b[0mloads\u001b[0m\u001b[1;33m(\u001b[0m\u001b[0mjson_string\u001b[0m\u001b[1;33m)\u001b[0m\u001b[1;33m,\u001b[0m\u001b[1;34m\"data\"\u001b[0m\u001b[1;33m)\u001b[0m\u001b[1;33m\u001b[0m\u001b[1;33m\u001b[0m\u001b[0m\n\u001b[0;32m      3\u001b[0m \u001b[0mprint\u001b[0m\u001b[1;33m(\u001b[0m\u001b[0mdf3\u001b[0m\u001b[1;33m)\u001b[0m\u001b[1;33m\u001b[0m\u001b[1;33m\u001b[0m\u001b[0m\n",
      "\u001b[1;32m~\\anaconda3\\lib\\json\\__init__.py\u001b[0m in \u001b[0;36mdumps\u001b[1;34m(obj, skipkeys, ensure_ascii, check_circular, allow_nan, cls, indent, separators, default, sort_keys, **kw)\u001b[0m\n\u001b[0;32m    229\u001b[0m         \u001b[0mcls\u001b[0m \u001b[1;32mis\u001b[0m \u001b[1;32mNone\u001b[0m \u001b[1;32mand\u001b[0m \u001b[0mindent\u001b[0m \u001b[1;32mis\u001b[0m \u001b[1;32mNone\u001b[0m \u001b[1;32mand\u001b[0m \u001b[0mseparators\u001b[0m \u001b[1;32mis\u001b[0m \u001b[1;32mNone\u001b[0m \u001b[1;32mand\u001b[0m\u001b[1;33m\u001b[0m\u001b[1;33m\u001b[0m\u001b[0m\n\u001b[0;32m    230\u001b[0m         default is None and not sort_keys and not kw):\n\u001b[1;32m--> 231\u001b[1;33m         \u001b[1;32mreturn\u001b[0m \u001b[0m_default_encoder\u001b[0m\u001b[1;33m.\u001b[0m\u001b[0mencode\u001b[0m\u001b[1;33m(\u001b[0m\u001b[0mobj\u001b[0m\u001b[1;33m)\u001b[0m\u001b[1;33m\u001b[0m\u001b[1;33m\u001b[0m\u001b[0m\n\u001b[0m\u001b[0;32m    232\u001b[0m     \u001b[1;32mif\u001b[0m \u001b[0mcls\u001b[0m \u001b[1;32mis\u001b[0m \u001b[1;32mNone\u001b[0m\u001b[1;33m:\u001b[0m\u001b[1;33m\u001b[0m\u001b[1;33m\u001b[0m\u001b[0m\n\u001b[0;32m    233\u001b[0m         \u001b[0mcls\u001b[0m \u001b[1;33m=\u001b[0m \u001b[0mJSONEncoder\u001b[0m\u001b[1;33m\u001b[0m\u001b[1;33m\u001b[0m\u001b[0m\n",
      "\u001b[1;32m~\\anaconda3\\lib\\json\\encoder.py\u001b[0m in \u001b[0;36mencode\u001b[1;34m(self, o)\u001b[0m\n\u001b[0;32m    197\u001b[0m         \u001b[1;31m# exceptions aren't as detailed.  The list call should be roughly\u001b[0m\u001b[1;33m\u001b[0m\u001b[1;33m\u001b[0m\u001b[1;33m\u001b[0m\u001b[0m\n\u001b[0;32m    198\u001b[0m         \u001b[1;31m# equivalent to the PySequence_Fast that ''.join() would do.\u001b[0m\u001b[1;33m\u001b[0m\u001b[1;33m\u001b[0m\u001b[1;33m\u001b[0m\u001b[0m\n\u001b[1;32m--> 199\u001b[1;33m         \u001b[0mchunks\u001b[0m \u001b[1;33m=\u001b[0m \u001b[0mself\u001b[0m\u001b[1;33m.\u001b[0m\u001b[0miterencode\u001b[0m\u001b[1;33m(\u001b[0m\u001b[0mo\u001b[0m\u001b[1;33m,\u001b[0m \u001b[0m_one_shot\u001b[0m\u001b[1;33m=\u001b[0m\u001b[1;32mTrue\u001b[0m\u001b[1;33m)\u001b[0m\u001b[1;33m\u001b[0m\u001b[1;33m\u001b[0m\u001b[0m\n\u001b[0m\u001b[0;32m    200\u001b[0m         \u001b[1;32mif\u001b[0m \u001b[1;32mnot\u001b[0m \u001b[0misinstance\u001b[0m\u001b[1;33m(\u001b[0m\u001b[0mchunks\u001b[0m\u001b[1;33m,\u001b[0m \u001b[1;33m(\u001b[0m\u001b[0mlist\u001b[0m\u001b[1;33m,\u001b[0m \u001b[0mtuple\u001b[0m\u001b[1;33m)\u001b[0m\u001b[1;33m)\u001b[0m\u001b[1;33m:\u001b[0m\u001b[1;33m\u001b[0m\u001b[1;33m\u001b[0m\u001b[0m\n\u001b[0;32m    201\u001b[0m             \u001b[0mchunks\u001b[0m \u001b[1;33m=\u001b[0m \u001b[0mlist\u001b[0m\u001b[1;33m(\u001b[0m\u001b[0mchunks\u001b[0m\u001b[1;33m)\u001b[0m\u001b[1;33m\u001b[0m\u001b[1;33m\u001b[0m\u001b[0m\n",
      "\u001b[1;32m~\\anaconda3\\lib\\json\\encoder.py\u001b[0m in \u001b[0;36miterencode\u001b[1;34m(self, o, _one_shot)\u001b[0m\n\u001b[0;32m    255\u001b[0m                 \u001b[0mself\u001b[0m\u001b[1;33m.\u001b[0m\u001b[0mkey_separator\u001b[0m\u001b[1;33m,\u001b[0m \u001b[0mself\u001b[0m\u001b[1;33m.\u001b[0m\u001b[0mitem_separator\u001b[0m\u001b[1;33m,\u001b[0m \u001b[0mself\u001b[0m\u001b[1;33m.\u001b[0m\u001b[0msort_keys\u001b[0m\u001b[1;33m,\u001b[0m\u001b[1;33m\u001b[0m\u001b[1;33m\u001b[0m\u001b[0m\n\u001b[0;32m    256\u001b[0m                 self.skipkeys, _one_shot)\n\u001b[1;32m--> 257\u001b[1;33m         \u001b[1;32mreturn\u001b[0m \u001b[0m_iterencode\u001b[0m\u001b[1;33m(\u001b[0m\u001b[0mo\u001b[0m\u001b[1;33m,\u001b[0m \u001b[1;36m0\u001b[0m\u001b[1;33m)\u001b[0m\u001b[1;33m\u001b[0m\u001b[1;33m\u001b[0m\u001b[0m\n\u001b[0m\u001b[0;32m    258\u001b[0m \u001b[1;33m\u001b[0m\u001b[0m\n\u001b[0;32m    259\u001b[0m def _make_iterencode(markers, _default, _encoder, _indent, _floatstr,\n",
      "\u001b[1;32m~\\anaconda3\\lib\\json\\encoder.py\u001b[0m in \u001b[0;36mdefault\u001b[1;34m(self, o)\u001b[0m\n\u001b[0;32m    177\u001b[0m \u001b[1;33m\u001b[0m\u001b[0m\n\u001b[0;32m    178\u001b[0m         \"\"\"\n\u001b[1;32m--> 179\u001b[1;33m         raise TypeError(f'Object of type {o.__class__.__name__} '\n\u001b[0m\u001b[0;32m    180\u001b[0m                         f'is not JSON serializable')\n\u001b[0;32m    181\u001b[0m \u001b[1;33m\u001b[0m\u001b[0m\n",
      "\u001b[1;31mTypeError\u001b[0m: Object of type type is not JSON serializable"
     ]
    }
   ],
   "source": [
    "json_string = json.dumps(property)\n",
    "df3 = pd.json_normalize(json.loads(json_string))\n",
    "print(df3)"
   ]
  },
  {
   "cell_type": "code",
   "execution_count": 55,
   "id": "71017c6f",
   "metadata": {},
   "outputs": [],
   "source": [
    "df3.to_csv('property.csv',index=False)"
   ]
  },
  {
   "cell_type": "code",
   "execution_count": 56,
   "id": "cb864b4c",
   "metadata": {},
   "outputs": [],
   "source": [
    "file_path = \"property.json\"\n",
    "\n",
    "with open(file_path,'w') as json_file:\n",
    "    json.dump(property,json_file)"
   ]
  },
  {
   "cell_type": "code",
   "execution_count": 12,
   "id": "733ad2a7",
   "metadata": {},
   "outputs": [
    {
     "name": "stdout",
     "output_type": "stream",
     "text": [
      "{'status': 200, 'data': {'photos': None, 'floorplans': {'floorplan_interactive': {}}, 'tags': None, 'other_listings': {'rdc': [{'unique': None, 'primary': None, 'listing_id': '2958623093', 'listing_key': None, 'status': 'off_market', 'sold_date': '2023-09-13'}]}, 'days_on_market': None, 'local': {'flood': {'flood_trend': 'This property’s flood risk is not changing.', 'flood_factor_severity': 'minimal'}, 'noise': {'noise_categories': [{'type': 'airport', 'text': 'N/A'}, {'type': 'traffic', 'text': 'Medium'}, {'type': 'local', 'text': 'N/A'}, {'type': 'score', 'text': 'Low'}], 'score': 81}, 'wildfire': {'fire_trend': 'This property’s wildfire risk is not changing.', 'fire_factor_severity': 'Minor'}}, 'buyers': None, 'href': 'https://www.realtor.com/realestateandhomes-detail/12-Mayflower-Dr_Merrimack_NH_03054_M49513-72754', 'price_per_sqft': None, 'last_sold_price': None, 'nearby_schools': {'schools': [{'distance_in_miles': 1.1, 'district': {'name': 'Merrimack School District', 'id': '06190001661'}, 'id': '0747156841', 'review_count': 2, 'name': 'Merrimack Middle School', 'nces_code': '330474000602', 'funding_type': 'public', 'parent_rating': 3, 'greatschools_id': '3300980', 'coordinate': {'lon': -71.54319, 'lat': 42.86989}, 'slug_id': 'Merrimack-Middle-School-0747156841', 'education_levels': ['middle'], 'student_count': 559, 'grades': ['7', '8'], 'rating': 4}, {'distance_in_miles': 1.2, 'district': {'name': 'Merrimack School District', 'id': '06190001661'}, 'id': '0747147201', 'review_count': 7, 'name': 'James Mastricola Elementary School', 'nces_code': '330474000276', 'funding_type': 'public', 'parent_rating': 2, 'greatschools_id': '3300304', 'coordinate': {'lon': -71.498619, 'lat': 42.865922}, 'slug_id': 'James-Mastricola-Elementary-School-0747147201', 'education_levels': ['elementary'], 'student_count': 405, 'grades': ['K', '1', '2', '3', '4'], 'rating': 3}, {'distance_in_miles': 1.2, 'district': {'name': 'Merrimack School District', 'id': '06190001661'}, 'id': '0747147221', 'review_count': 6, 'name': 'Merrimack High School', 'nces_code': '330474000278', 'funding_type': 'public', 'parent_rating': 3, 'greatschools_id': '3300306', 'coordinate': {'lon': -71.498119, 'lat': 42.860544}, 'slug_id': 'Merrimack-High-School-0747147221', 'education_levels': ['high'], 'student_count': 1206, 'grades': ['9', '10', '11', '12'], 'rating': 5}, {'distance_in_miles': 1.1, 'district': {'name': None, 'id': '06190000001'}, 'id': '0747154301', 'review_count': 1, 'name': \"Lisa's Tippy Toes Day Care & Learning Center\", 'nces_code': 'A9902878', 'funding_type': 'private', 'parent_rating': 5, 'greatschools_id': '3300801', 'coordinate': {'lon': -71.500757, 'lat': 42.868618}, 'slug_id': \"Lisa's-Tippy-Toes-Day-Care-&-Learning-Center-0747154301\", 'education_levels': ['elementary'], 'student_count': 74, 'grades': ['PK', 'K'], 'rating': None}]}, 'builder': None, 'advertisers': None, 'virtual_tours': None, 'move_in_date': None, 'listing_id': None, 'location': {'postal_code': {'geo_statistics': {'housing_market': {'hot_market_badge': 'Hot'}}}, 'address': {'street_post_direction': None, 'street_number': '12', 'state': 'New Hampshire', 'street_suffix': 'Dr', 'state_code': 'NH', 'validation_code': '121', 'unit': None, 'postal_code': '03054', 'street_direction': None, 'street_name': 'Mayflower', 'country': 'USA', 'coordinate': {'lon': -71.521933, 'lat': 42.865021}, 'line': '12 Mayflower Dr', 'city': 'Merrimack'}, 'street_view_url': 'https://maps.googleapis.com/maps/api/streetview?channel=rdc-streetview&client=gme-movesalesinc&location=12%20Mayflower%20Dr%2C%20Merrimack%2C%20NH%2003054&size=640x480&source=outdoor&signature=zDrFjqz56wGoGa95tofDs9WLojg=', 'city': {'county_needed_for_uniq': False, 'slug_id': 'Merrimack_NH'}, 'street_view_metadata_url': 'https://maps.googleapis.com/maps/api/streetview/metadata?channel=rdc-streetview&client=gme-movesalesinc&location=12%20Mayflower%20Dr%2C%20Merrimack%2C%20NH%2003054&size=640x480&source=outdoor&signature=kSOCEUS3jsn5a-4A7cd1wYvMmdw=', 'neighborhoods': None, 'search_areas': [{'city': 'merrimack', 'state_code': 'nh'}], 'county': {'name': 'Hillsborough', 'state_code': 'NH', 'fips_code': '33011'}}, 'home_tours': {'virtual_tours': {}}, 'source': {'community_id': None, 'id': None, 'name': None, 'agents': None, 'disclaimer': None, 'plan_id': None, 'listing_id': None, 'raw': None, 'type': None}, 'permalink': '12-Mayflower-Dr_Merrimack_NH_03054_M49513-72754', 'list_date': None, 'open_houses': None, 'last_sold_date': None, 'description': {'garage_max': None, 'exterior': 'Vinyl', 'sqft_min': None, 'baths_partial_calc': None, 'baths_consolidated': '2', 'sub_type': None, 'beds_min': None, 'baths_full': 2, 'name': None, 'pool': None, 'baths_full_calc': 2, 'garage': None, 'stories': 1, 'type': 'single_family', 'garage_type': 'Undefined Type', 'cooling': None, 'roofing': 'Asphalt Shingle', 'sqft': 1736, 'zoning': 'RESIDE', 'year_renovated': None, 'rooms': 5, 'baths_total': 2, 'lot_sqft': 14985, 'year_built': 1973, 'logo': None, 'baths_3qtr': None, 'units': 1, 'beds': 3, 'styles': ['Split Foyer'], 'construction': 'Frame', 'baths_half': None, 'text': None, 'heating': 'Forced Hot Water', 'baths': 2, 'baths_min': None, 'sqft_max': None, 'baths_max': None, 'beds_max': None, 'garage_min': None, 'fireplace': None}, 'last_price_change_amount': None, 'tax_history': [{'assessment': {'building': 157800, 'total': 331500, 'land': 173700}, 'tax': 5692, 'year': 2021, 'market': None}, {'assessment': {'building': 111700, 'total': 235700, 'land': 124000}, 'tax': 5671, 'year': 2020, 'market': None}, {'assessment': {'building': 111700, 'total': 235700, 'land': 124000}, 'tax': 5687, 'year': 2019, 'market': None}, {'assessment': {'building': 111700, 'total': 235700, 'land': 124000}, 'tax': 5685, 'year': 2018, 'market': None}, {'assessment': {'building': 110900, 'total': 234900, 'land': 124000}, 'tax': 5490, 'year': 2017, 'market': None}, {'assessment': {'building': 110200, 'total': 234200, 'land': 124000}, 'tax': 5337, 'year': 2016, 'market': None}, {'assessment': {'building': 93800, 'total': 210500, 'land': 116700}, 'tax': 5204, 'year': 2015, 'market': None}, {'assessment': {'building': 94300, 'total': 211000, 'land': 116700}, 'tax': 5083, 'year': 2014, 'market': None}, {'assessment': {'building': 131900, 'total': 248400, 'land': 116500}, 'tax': 4382, 'year': 2007, 'market': {'building': 131900, 'total': 248400, 'land': 116500}}], 'suppression_flags': {'has_suppress_sold_info': True}, 'property_history': [{'event_name': 'Listing removed', 'date': '2023-08-16', 'listing': {'last_status_change_date': '2023-09-13T16:41:06Z', 'photos': None, 'last_update_date': '2023-09-13T16:18:19Z', 'list_price': 420000, 'status': 'off_market', 'suppression_flags': {'has_suppress_foreclosure': True, 'has_suppress_all_offmarket_photos': True, 'has_suppress_sold_info': True}, 'advertisers': [{'office': {'slogan': 'Bringing People Home to NH, MA, ME & VT', 'name': 'BEAN GROUP', 'out_of_community': None, 'application_url': None, 'fulfillment_id': '1074255', 'href': 'https://beangroup.com', 'mls_set': 'O-NHVT-2351', 'email': 'realtor@beangroup.com'}, 'broker': {'logo': '', 'name': 'Bean Group', 'accent_color': 'Transparent', 'fulfillment_id': '1080184'}, 'name': 'Steven MacDougall', 'mls_set': 'A-NHVT-16009', 'email': 'shmacdougall@gmail.com', 'nrds_id': '597510353', 'type': 'seller', 'href': 'https://beangroup.com', 'slogan': 'Bringing People Home', 'fulfillment_id': '398195'}], 'buyers': None, 'description': {'text': \"When opportunity knocks you'll need to be listening. Wonderfully located at the end of the Mayflower Road dead-end so traffic is never an issue for the little ones. The level lot with private yard makes it great for a above ground pool and playground. The oversized 24x24 detached garage (needs paint) with steep pitch roof for potential stairs and storage above. Inside the house you'll find the traditional 3 BR Split floorplan. Kitchen with eat-in area and direct access to the newer, nearly completed porch and newer composite deck. The lower level has a 3/4 bath/laundry and a large 14 x 16 room ready for your updating. There's a newer furnace (16 yrs) and new oil tank already! The right of the lower level currently has a workshop with the added bonus of an exterior door which lends itself nicely to an accessory dwelling (aka In-Law) apartment or just easy access to your detached garage. Many possibilities and opportunities here and your sweat equity will reward you with a place you've made your own!\"}, 'listing_id': '2958623093', 'source': {'agents': [{'office_name': 'Bean Group / Bedford', 'type': 'seller', 'office_phone': '8004507784', 'agent_name': 'Steven Macdougall', 'agent_id': '16009', 'office_id': '2351'}], 'id': 'NHVT'}, 'list_date': '2023-08-12T18:55:41Z'}, 'price_sqft': None, 'source_name': 'PrimeMLS', 'source_listing_id': '4965325', 'price': 0}, {'event_name': 'Listed', 'date': '2023-08-12', 'listing': {'last_status_change_date': '2023-09-13T16:41:06Z', 'photos': None, 'last_update_date': '2023-09-13T16:18:19Z', 'list_price': 420000, 'status': 'off_market', 'suppression_flags': {'has_suppress_foreclosure': True, 'has_suppress_all_offmarket_photos': True, 'has_suppress_sold_info': True}, 'advertisers': [{'office': {'slogan': 'Bringing People Home to NH, MA, ME & VT', 'name': 'BEAN GROUP', 'out_of_community': None, 'application_url': None, 'fulfillment_id': '1074255', 'href': 'https://beangroup.com', 'mls_set': 'O-NHVT-2351', 'email': 'realtor@beangroup.com'}, 'broker': {'logo': '', 'name': 'Bean Group', 'accent_color': 'Transparent', 'fulfillment_id': '1080184'}, 'name': 'Steven MacDougall', 'mls_set': 'A-NHVT-16009', 'email': 'shmacdougall@gmail.com', 'nrds_id': '597510353', 'type': 'seller', 'href': 'https://beangroup.com', 'slogan': 'Bringing People Home', 'fulfillment_id': '398195'}], 'buyers': None, 'description': {'text': \"When opportunity knocks you'll need to be listening. Wonderfully located at the end of the Mayflower Road dead-end so traffic is never an issue for the little ones. The level lot with private yard makes it great for a above ground pool and playground. The oversized 24x24 detached garage (needs paint) with steep pitch roof for potential stairs and storage above. Inside the house you'll find the traditional 3 BR Split floorplan. Kitchen with eat-in area and direct access to the newer, nearly completed porch and newer composite deck. The lower level has a 3/4 bath/laundry and a large 14 x 16 room ready for your updating. There's a newer furnace (16 yrs) and new oil tank already! The right of the lower level currently has a workshop with the added bonus of an exterior door which lends itself nicely to an accessory dwelling (aka In-Law) apartment or just easy access to your detached garage. Many possibilities and opportunities here and your sweat equity will reward you with a place you've made your own!\"}, 'listing_id': '2958623093', 'source': {'agents': [{'office_name': 'Bean Group / Bedford', 'type': 'seller', 'office_phone': '8004507784', 'agent_name': 'Steven Macdougall', 'agent_id': '16009', 'office_id': '2351'}], 'id': 'NHVT'}, 'list_date': '2023-08-12T18:55:41Z'}, 'price_sqft': 272.9044834308, 'source_name': 'PrimeMLS', 'source_listing_id': '4965325', 'price': 420000}], 'status': 'off_market', 'photo_count': None, 'list_price': None, 'matterport': None, 'provider_url': None, 'property_id': '4951372754', 'details': [{'parent_category': None, 'category': 'Location', 'text': ['Zoning: RESIDE']}, {'parent_category': None, 'category': 'Room description', 'text': ['Total bath(s): 2', 'Total full bath(s): 2', 'Total rooms: 5']}, {'parent_category': None, 'category': 'Lot size and SQFT', 'text': ['Living Area: 1736']}, {'parent_category': None, 'category': 'Stories', 'text': ['Stories: 1']}, {'parent_category': None, 'category': 'Interior Features', 'text': ['Heating features: Forced Hot Water']}, {'parent_category': None, 'category': 'Exterior Features', 'text': ['Vinyl', 'Roofing: Asphalt Shingle']}, {'parent_category': None, 'category': 'Listing information', 'text': ['Year Built: 1973']}], 'flags': {'is_new_construction': None, 'is_for_rent': None, 'is_subdivision': None, 'is_contingent': None, 'is_new_listing': None, 'is_price_reduced': None, 'is_deal_available': None, 'is_pending': None, 'is_garage_present': None, 'is_senior_community': None, 'is_foreclosure': None, 'is_price_excludes_land': None, 'is_coming_soon': None, 'is_short_sale': None}, 'products': None, 'community': None, 'primary_photo': None, 'hoa': None, 'consumer_advertisers': [{'slogan': None, 'contact_name': None, 'show_realtor_logo': None, 'name': None, 'photo': {'href': None, 'type': None, 'description': None}, 'office_id': None, 'href': None, 'address': None, 'hours': None, 'broker_id': None, 'agent_id': None, 'phone': None, 'advertiser_id': None, 'type': 'Office'}], 'lead_attributes': {'show_contact_an_agent': True, 'ready_connect_mortgage': {'show_veterans_united': False, 'show_contact_a_lender': False}, 'show_lead_form': True, 'disclaimer_text': None, 'is_tcpa_message_enabled': None, 'lead_type': 'off_market', 'opcity_lead_attributes': {'smarthome_enabled': False, 'cashback_enabled': False, 'phones': None, 'flip_the_market_enabled': False}, 'show_text_leads': True}, 'estimates': {'current_values': [{'estimate_high': 469156, 'estimate': 434404, 'isbest_homevalue': True, 'estimate_low': 399651, 'source': {'name': 'Quantarium', 'type': 'quantarium'}, 'date': '2023-09-13'}, {'estimate_high': 461400, 'estimate': 424400, 'isbest_homevalue': False, 'estimate_low': 387400, 'source': {'name': 'CoreLogic®', 'type': 'corelogic'}, 'date': '2023-09-13'}, {'estimate_high': 540000, 'estimate': 500000, 'isbest_homevalue': False, 'estimate_low': 460000, 'source': {'name': 'Collateral Analytics', 'type': 'collateral'}, 'date': '2023-08-14'}], 'forecast_values': [{'estimates': [{'estimate': 434391, 'date': '2023-10-01'}, {'estimate': 433318, 'date': '2023-11-01'}, {'estimate': 433513, 'date': '2023-12-01'}], 'source': {'type': 'quantarium', 'name': 'Quantarium'}}, {'estimates': [{'estimate': 425172, 'date': '2023-10-01'}, {'estimate': 425729, 'date': '2023-11-01'}, {'estimate': 425656, 'date': '2023-12-01'}], 'source': {'type': 'corelogic', 'name': 'CoreLogic®'}}, {'estimates': [{'estimate': 500668, 'date': '2023-09-01'}, {'estimate': 501335, 'date': '2023-10-01'}, {'estimate': 501934, 'date': '2023-11-01'}, {'estimate': 502532, 'date': '2023-12-01'}], 'source': {'type': 'collateral', 'name': 'Collateral Analytics'}}], 'historical_values': [{'estimates': [{'estimate': 434404, 'date': '2023-09-13'}, {'estimate': 427443, 'date': '2023-08-30'}, {'estimate': 427983, 'date': '2023-07-26'}, {'estimate': 426031, 'date': '2023-06-28'}, {'estimate': 418588, 'date': '2023-05-31'}, {'estimate': 409771, 'date': '2023-04-26'}, {'estimate': 412066, 'date': '2023-03-29'}, {'estimate': 407721, 'date': '2023-02-22'}, {'estimate': 407215, 'date': '2023-01-25'}, {'estimate': 408845, 'date': '2022-12-28'}, {'estimate': 415229, 'date': '2022-11-30'}, {'estimate': 418901, 'date': '2022-10-26'}, {'estimate': 408790, 'date': '2022-09-28'}, {'estimate': 433258, 'date': '2022-08-31'}, {'estimate': 423396, 'date': '2022-07-27'}, {'estimate': 420906, 'date': '2022-06-29'}, {'estimate': 421239, 'date': '2022-05-25'}, {'estimate': 409325, 'date': '2022-04-27'}, {'estimate': 402620, 'date': '2022-03-30'}, {'estimate': 399495, 'date': '2022-02-23'}, {'estimate': 387801, 'date': '2022-01-26'}, {'estimate': 393366, 'date': '2021-12-29'}, {'estimate': 381417, 'date': '2021-11-10'}, {'estimate': 375666, 'date': '2021-10-20'}, {'estimate': 374062, 'date': '2021-09-29'}, {'estimate': 376236, 'date': '2021-08-25'}, {'estimate': 368048, 'date': '2021-07-28'}, {'estimate': 370090, 'date': '2021-06-30'}, {'estimate': 370262, 'date': '2021-05-26'}, {'estimate': 353697, 'date': '2021-04-28'}, {'estimate': 344884, 'date': '2021-03-03'}, {'estimate': 344872, 'date': '2021-02-24'}, {'estimate': 328307, 'date': '2021-01-27'}, {'estimate': 329022, 'date': '2020-12-30'}, {'estimate': 322546, 'date': '2020-11-25'}, {'estimate': 313687, 'date': '2020-10-28'}, {'estimate': 300462, 'date': '2020-09-30'}, {'estimate': 297203, 'date': '2020-08-26'}, {'estimate': 295877, 'date': '2020-07-29'}, {'estimate': 295299, 'date': '2020-06-24'}, {'estimate': 293375, 'date': '2020-05-27'}, {'estimate': 286271, 'date': '2020-04-29'}, {'estimate': 276847, 'date': '2020-03-04'}, {'estimate': 276863, 'date': '2020-02-26'}, {'estimate': 277531, 'date': '2020-01-01'}, {'estimate': 277910, 'date': '2019-12-01'}, {'estimate': 277499, 'date': '2019-11-01'}, {'estimate': 272168, 'date': '2019-10-01'}, {'estimate': 273264, 'date': '2019-09-01'}, {'estimate': 277210, 'date': '2019-08-01'}, {'estimate': 281183, 'date': '2019-07-01'}, {'estimate': 280011, 'date': '2019-06-01'}, {'estimate': 274948, 'date': '2019-05-01'}, {'estimate': 268722, 'date': '2019-04-01'}, {'estimate': 269928, 'date': '2019-03-01'}, {'estimate': 279056, 'date': '2019-02-01'}, {'estimate': 282113, 'date': '2019-01-01'}, {'estimate': 280403, 'date': '2018-12-01'}, {'estimate': 280232, 'date': '2018-11-01'}, {'estimate': 278700, 'date': '2018-10-01'}, {'estimate': 277939, 'date': '2018-09-01'}], 'source': {'type': 'quantarium', 'name': 'Quantarium'}}, {'estimates': [{'estimate': 424400, 'date': '2023-09-13'}, {'estimate': 424300, 'date': '2023-08-30'}, {'estimate': 490500, 'date': '2023-07-27'}, {'estimate': 485800, 'date': '2023-06-29'}, {'estimate': 484100, 'date': '2023-05-30'}, {'estimate': 479600, 'date': '2023-04-26'}, {'estimate': 477700, 'date': '2023-03-16'}, {'estimate': 471700, 'date': '2023-02-25'}, {'estimate': 476300, 'date': '2023-01-30'}, {'estimate': 476300, 'date': '2022-12-26'}, {'estimate': 464700, 'date': '2022-11-30'}, {'estimate': 477300, 'date': '2022-10-26'}, {'estimate': 462900, 'date': '2022-09-21'}, {'estimate': 464700, 'date': '2022-08-25'}, {'estimate': 439600, 'date': '2022-07-29'}, {'estimate': 427200, 'date': '2022-06-25'}, {'estimate': 410000, 'date': '2022-05-24'}, {'estimate': 406700, 'date': '2022-04-30'}, {'estimate': 409700, 'date': '2022-03-27'}, {'estimate': 389300, 'date': '2022-02-21'}, {'estimate': 390900, 'date': '2022-01-20'}, {'estimate': 389700, 'date': '2021-12-28'}, {'estimate': 379600, 'date': '2021-11-19'}, {'estimate': 375800, 'date': '2021-10-24'}, {'estimate': 374300, 'date': '2021-09-28'}, {'estimate': 370100, 'date': '2021-08-25'}, {'estimate': 367300, 'date': '2021-07-31'}, {'estimate': 353200, 'date': '2021-06-27'}, {'estimate': 339400, 'date': '2021-05-24'}, {'estimate': 330200, 'date': '2021-04-29'}, {'estimate': 323900, 'date': '2021-03-25'}, {'estimate': 323600, 'date': '2021-02-27'}, {'estimate': 323300, 'date': '2021-01-31'}, {'estimate': 339500, 'date': '2020-12-27'}, {'estimate': 344700, 'date': '2020-11-24'}, {'estimate': 333100, 'date': '2020-10-30'}, {'estimate': 315400, 'date': '2020-09-27'}, {'estimate': 308500, 'date': '2020-08-25'}, {'estimate': 308500, 'date': '2020-07-29'}, {'estimate': 311700, 'date': '2020-06-25'}, {'estimate': 321800, 'date': '2020-05-27'}, {'estimate': 319200, 'date': '2020-04-28'}, {'estimate': 319000, 'date': '2020-03-31'}, {'estimate': 317000, 'date': '2020-02-21'}, {'estimate': 316100, 'date': '2020-01-23'}, {'estimate': 314500, 'date': '2019-12-26'}, {'estimate': 305900, 'date': '2019-11-28'}, {'estimate': 305600, 'date': '2019-10-30'}, {'estimate': 290300, 'date': '2019-09-01'}, {'estimate': 291700, 'date': '2019-08-27'}, {'estimate': 292000, 'date': '2019-07-30'}, {'estimate': 304800, 'date': '2019-06-23'}, {'estimate': 296800, 'date': '2019-05-26'}, {'estimate': 296500, 'date': '2019-04-28'}, {'estimate': 294300, 'date': '2019-03-23'}, {'estimate': 254700, 'date': '2019-02-01'}, {'estimate': 294900, 'date': '2019-01-28'}, {'estimate': 291300, 'date': '2018-12-31'}, {'estimate': 293100, 'date': '2018-11-07'}, {'estimate': 293200, 'date': '2018-10-29'}, {'estimate': 281180, 'date': '2018-09-27'}], 'source': {'type': 'corelogic', 'name': 'CoreLogic®'}}, {'estimates': [{'estimate': 500000, 'date': '2023-08-14'}, {'estimate': 491000, 'date': '2023-07-14'}, {'estimate': 482000, 'date': '2023-06-14'}, {'estimate': 481000, 'date': '2023-05-15'}, {'estimate': 485000, 'date': '2023-04-14'}, {'estimate': 485000, 'date': '2023-03-14'}, {'estimate': 473000, 'date': '2023-02-14'}, {'estimate': 457000, 'date': '2023-01-15'}, {'estimate': 451000, 'date': '2022-12-14'}, {'estimate': 410000, 'date': '2022-11-14'}, {'estimate': 432000, 'date': '2022-10-14'}, {'estimate': 468000, 'date': '2022-09-14'}, {'estimate': 460000, 'date': '2022-08-15'}, {'estimate': 436000, 'date': '2022-07-14'}, {'estimate': 433000, 'date': '2022-06-14'}, {'estimate': 405000, 'date': '2022-05-14'}, {'estimate': 407000, 'date': '2022-04-14'}, {'estimate': 402000, 'date': '2022-03-14'}, {'estimate': 403000, 'date': '2022-02-14'}, {'estimate': 416000, 'date': '2022-01-14'}, {'estimate': 412000, 'date': '2021-12-14'}, {'estimate': 410000, 'date': '2021-11-14'}, {'estimate': 407000, 'date': '2021-10-18'}, {'estimate': 399000, 'date': '2021-09-14'}, {'estimate': 394000, 'date': '2021-08-14'}, {'estimate': 377000, 'date': '2021-07-14'}, {'estimate': 354000, 'date': '2021-06-14'}, {'estimate': 325000, 'date': '2021-05-14'}, {'estimate': 330000, 'date': '2021-04-14'}, {'estimate': 326000, 'date': '2021-03-14'}, {'estimate': 322000, 'date': '2021-02-14'}, {'estimate': 322000, 'date': '2021-01-14'}, {'estimate': 336000, 'date': '2020-12-14'}, {'estimate': 325000, 'date': '2020-11-14'}, {'estimate': 320000, 'date': '2020-10-14'}, {'estimate': 302000, 'date': '2020-09-14'}, {'estimate': 302000, 'date': '2020-08-14'}, {'estimate': 299000, 'date': '2020-07-14'}, {'estimate': 300481, 'date': '2020-06-28'}, {'estimate': 301962, 'date': '2020-05-28'}, {'estimate': 299083, 'date': '2020-04-28'}, {'estimate': 296673, 'date': '2020-03-28'}, {'estimate': 294904, 'date': '2020-02-28'}, {'estimate': 293775, 'date': '2020-01-28'}, {'estimate': 293078, 'date': '2019-12-28'}, {'estimate': 292589, 'date': '2019-11-28'}, {'estimate': 292081, 'date': '2019-10-28'}, {'estimate': 291366, 'date': '2019-09-28'}, {'estimate': 290330, 'date': '2019-08-28'}, {'estimate': 288919, 'date': '2019-07-28'}, {'estimate': 287149, 'date': '2019-06-28'}, {'estimate': 285098, 'date': '2019-05-28'}, {'estimate': 282858, 'date': '2019-04-28'}, {'estimate': 280486, 'date': '2019-03-28'}, {'estimate': 278115, 'date': '2019-02-28'}, {'estimate': 275762, 'date': '2019-01-28'}, {'estimate': 273522, 'date': '2018-12-28'}, {'estimate': 271414, 'date': '2018-11-28'}, {'estimate': 269476, 'date': '2018-10-28'}, {'estimate': 267706, 'date': '2018-09-28'}], 'source': {'type': 'collateral', 'name': 'Collateral Analytics'}}]}}}\n"
     ]
    }
   ],
   "source": [
    "import requests\n",
    "\n",
    "propertyDetail_url = \"https://us-real-estate.p.rapidapi.com/v3/property-detail\"\n",
    "\n",
    "propertyDetail_querystring = {\"property_id\":\"4951372754\"}\n",
    "\n",
    "headers = {\n",
    "    \"X-RapidAPI-Key\": \"261d8f9093msh9825615f8a550d4p1f4949jsnfd19cb6c86d2\",\n",
    "    \"X-RapidAPI-Host\": \"us-real-estate.p.rapidapi.com\"\n",
    "}\n",
    "\n",
    "response = requests.get(propertyDetail_url, headers=headers, params=propertyDetail_querystring)\n",
    "\n",
    "propertyDetail = response.json()\n",
    "\n",
    "print(propertyDetail)\n",
    "\n"
   ]
  },
  {
   "cell_type": "code",
   "execution_count": 21,
   "id": "42d0425a",
   "metadata": {},
   "outputs": [
    {
     "name": "stdout",
     "output_type": "stream",
     "text": [
      "   status data.photos data.tags  \\\n",
      "0     200        None      None   \n",
      "\n",
      "                             data.other_listings.rdc data.days_on_market  \\\n",
      "0  [{'unique': None, 'primary': None, 'listing_id...                None   \n",
      "\n",
      "                  data.local.flood.flood_trend  \\\n",
      "0  This property’s flood risk is not changing.   \n",
      "\n",
      "  data.local.flood.flood_factor_severity  \\\n",
      "0                                minimal   \n",
      "\n",
      "                   data.local.noise.noise_categories  data.local.noise.score  \\\n",
      "0  [{'type': 'airport', 'text': 'N/A'}, {'type': ...                      81   \n",
      "\n",
      "                   data.local.wildfire.fire_trend  ...  \\\n",
      "0  This property’s wildfire risk is not changing.  ...   \n",
      "\n",
      "  data.lead_attributes.is_tcpa_message_enabled data.lead_attributes.lead_type  \\\n",
      "0                                         None                     off_market   \n",
      "\n",
      "  data.lead_attributes.opcity_lead_attributes.smarthome_enabled  \\\n",
      "0                                              False              \n",
      "\n",
      "  data.lead_attributes.opcity_lead_attributes.cashback_enabled  \\\n",
      "0                                              False             \n",
      "\n",
      "  data.lead_attributes.opcity_lead_attributes.phones  \\\n",
      "0                                               None   \n",
      "\n",
      "  data.lead_attributes.opcity_lead_attributes.flip_the_market_enabled  \\\n",
      "0                                              False                    \n",
      "\n",
      "  data.lead_attributes.show_text_leads  \\\n",
      "0                                 True   \n",
      "\n",
      "                       data.estimates.current_values  \\\n",
      "0  [{'estimate_high': 469156, 'estimate': 434404,...   \n",
      "\n",
      "                      data.estimates.forecast_values  \\\n",
      "0  [{'estimates': [{'estimate': 434391, 'date': '...   \n",
      "\n",
      "                    data.estimates.historical_values  \n",
      "0  [{'estimates': [{'estimate': 434404, 'date': '...  \n",
      "\n",
      "[1 rows x 144 columns]\n"
     ]
    }
   ],
   "source": [
    "json_string = json.dumps(propertyDetail)\n",
    "df4 = pd.json_normalize(json.loads(json_string))\n",
    "print(df4)"
   ]
  },
  {
   "cell_type": "code",
   "execution_count": 23,
   "id": "6b79bd15",
   "metadata": {},
   "outputs": [],
   "source": [
    "df4.to_csv('propertyDetail1.csv',index=False)"
   ]
  },
  {
   "cell_type": "code",
   "execution_count": 17,
   "id": "18e37ce0",
   "metadata": {},
   "outputs": [],
   "source": [
    "file_path = \"propertyDetail.json\"\n",
    "\n",
    "with open(file_path,'w') as json_file:\n",
    "    json.dump(propertyDetail,json_file)"
   ]
  },
  {
   "cell_type": "code",
   "execution_count": 24,
   "id": "e37e141c",
   "metadata": {},
   "outputs": [],
   "source": [
    "import os"
   ]
  },
  {
   "cell_type": "code",
   "execution_count": 25,
   "id": "fcb4696f",
   "metadata": {},
   "outputs": [],
   "source": [
    "url ='https://www.zillow.com/graphql'"
   ]
  },
  {
   "cell_type": "code",
   "execution_count": 26,
   "id": "baa31297",
   "metadata": {},
   "outputs": [],
   "source": [
    "proxies = {}\n",
    "response = requests.get(url=url, proxies=proxies)\n",
    "with open(\"response.csv\",\"wb\") as f:\n",
    "    f.write(response.content)"
   ]
  },
  {
   "cell_type": "markdown",
   "id": "0bec1bc5",
   "metadata": {},
   "source": [
    "# Inflation rate \n"
   ]
  },
  {
   "cell_type": "code",
   "execution_count": 5,
   "id": "ec749092",
   "metadata": {},
   "outputs": [],
   "source": [
    "response = requests.get(\"https://www.usinflationcalculator.com/inflation/historical-inflation-rates/\")"
   ]
  },
  {
   "cell_type": "code",
   "execution_count": 6,
   "id": "d5e59120",
   "metadata": {},
   "outputs": [],
   "source": [
    "from bs4 import BeautifulSoup"
   ]
  },
  {
   "cell_type": "code",
   "execution_count": 10,
   "id": "89f0bc06",
   "metadata": {},
   "outputs": [],
   "source": [
    "soup = BeautifulSoup(response.content, \"html.parser\")\n",
    "\n",
    "# Find the table containing the inflation rate data\n",
    "table = soup.find(\"table\")\n",
    "\n",
    "# Extract the data from the table\n",
    "inflation_rate_data = []\n",
    "\n",
    "for row in table.find_all(\"tr\")[1:]:\n",
    "    year_column = row.find_all(\"th\")\n",
    "    columns = row.find_all(\"td\")\n",
    "\n",
    "    # Get the year and inflation rate for each row\n",
    "    Year = year_column[0].text\n",
    "    Jan = columns[0].text\n",
    "    Feb = columns[1].text\n",
    "    Mar = columns[2].text\n",
    "    Apr = columns[3].text\n",
    "    May = columns[4].text\n",
    "    Jun = columns[5].text\n",
    "    Jul = columns[6].text\n",
    "    Aug = columns[7].text\n",
    "    Sep = columns[8].text\n",
    "    Oct = columns[9].text\n",
    "    Nov = columns[10].text\n",
    "    Dec = columns[11].text\n",
    "    Ave = columns[12].text\n",
    "    \n",
    "    \n",
    "    \n",
    "\n",
    "\n",
    "    # Add the data to the list\n",
    "    inflation_rate_data.append([Year, Jan, Feb, Mar, Apr, May, Jun, Jul, Aug, Sep, Oct, Nov, Dec, Ave])"
   ]
  },
  {
   "cell_type": "code",
   "execution_count": 11,
   "id": "95dd4af5",
   "metadata": {},
   "outputs": [],
   "source": [
    "inflation_rate_df = pd.DataFrame(inflation_rate_data)"
   ]
  },
  {
   "cell_type": "code",
   "execution_count": 12,
   "id": "d38387f8",
   "metadata": {},
   "outputs": [],
   "source": [
    "inflation_rate_df.to_csv(\"inflation_rate.csv\", index=False)"
   ]
  },
  {
   "cell_type": "code",
   "execution_count": 13,
   "id": "91d8ca74",
   "metadata": {},
   "outputs": [
    {
     "name": "stdout",
     "output_type": "stream",
     "text": [
      "       0     1     2     3     4     5     6     7     8   \\\n",
      "0    1914   2.0   1.0   1.0   0.0   2.1   1.0   1.0   3.0   \n",
      "1    1915   1.0   1.0   0.0   2.0   2.0   2.0   1.0  -1.0   \n",
      "2    1916   3.0   4.0   6.1   6.0   5.9   6.9   6.9   7.9   \n",
      "3    1917  12.5  15.4  14.3  18.9  19.6  20.4  18.5  19.3   \n",
      "4    1918  19.7  17.5  16.7  12.7  13.3  13.1  18.0  18.5   \n",
      "..    ...   ...   ...   ...   ...   ...   ...   ...   ...   \n",
      "105  2019   1.6   1.5   1.9   2.0   1.8   1.6   1.8   1.7   \n",
      "106  2020   2.5   2.3   1.5   0.3   0.1   0.6   1.0   1.3   \n",
      "107  2021   1.4   1.7   2.6   4.2   5.0   5.4   5.4   5.3   \n",
      "108  2022   7.5   7.9   8.5   8.3   8.6   9.1   8.5   8.3   \n",
      "109  2023   6.4   6.0   5.0   4.9   4.0   3.0   3.2   3.7   \n",
      "\n",
      "                                   9     10    11    12    13  \n",
      "0                                 2.0   1.0   1.0   1.0   1.0  \n",
      "1                                -1.0   1.0   1.0   2.0   1.0  \n",
      "2                                 9.9  10.8  11.7  12.6   7.9  \n",
      "3                                19.8  19.5  17.4  18.1  17.4  \n",
      "4                                18.0  18.5  20.7  20.4  18.0  \n",
      "..                                ...   ...   ...   ...   ...  \n",
      "105                               1.7   1.8   2.1   2.3   1.8  \n",
      "106                               1.4   1.2   1.2   1.4   1.2  \n",
      "107                               5.4   6.2   6.8   7.0   4.7  \n",
      "108                               8.2   7.7   7.1   6.5   8.0  \n",
      "109  Avail.\\n        Oct.\\n        12                          \n",
      "\n",
      "[110 rows x 14 columns]\n"
     ]
    }
   ],
   "source": [
    "print(inflation_rate_df)"
   ]
  },
  {
   "cell_type": "code",
   "execution_count": null,
   "id": "8cb974fa",
   "metadata": {},
   "outputs": [],
   "source": []
  }
 ],
 "metadata": {
  "kernelspec": {
   "display_name": "Python 3",
   "language": "python",
   "name": "python3"
  },
  "language_info": {
   "codemirror_mode": {
    "name": "ipython",
    "version": 3
   },
   "file_extension": ".py",
   "mimetype": "text/x-python",
   "name": "python",
   "nbconvert_exporter": "python",
   "pygments_lexer": "ipython3",
   "version": "3.8.8"
  }
 },
 "nbformat": 4,
 "nbformat_minor": 5
}
